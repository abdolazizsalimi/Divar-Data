{
 "cells": [
  {
   "cell_type": "markdown",
   "metadata": {},
   "source": [
    "# <center>Summer Camp Entry Task</center>\n",
    "---"
   ]
  },
  {
   "cell_type": "markdown",
   "metadata": {},
   "source": [
    "## abdolazizsallimi@gmail.com\n",
    "---"
   ]
  },
  {
   "cell_type": "markdown",
   "metadata": {},
   "source": [
    "# set libraries and importing"
   ]
  },
  {
   "cell_type": "code",
   "execution_count": 723,
   "metadata": {},
   "outputs": [],
   "source": [
    "import numpy as np \n",
    "import pandas as pd \n",
    "import seaborn as sns\n",
    "import matplotlib.pyplot as plt\n",
    "sns.set()"
   ]
  },
  {
   "cell_type": "code",
   "execution_count": 724,
   "metadata": {},
   "outputs": [],
   "source": [
    "sns.set_theme(context='notebook', style='white', palette=\"Blues_r\", font='sans-serif', font_scale=1, color_codes=True, rc={'figure.figsize':(11,8)})"
   ]
  },
  {
   "cell_type": "markdown",
   "metadata": {},
   "source": [
    "# 1Q"
   ]
  },
  {
   "cell_type": "markdown",
   "metadata": {},
   "source": [
    "# Loding datainto pandas "
   ]
  },
  {
   "cell_type": "code",
   "execution_count": 725,
   "metadata": {},
   "outputs": [],
   "source": [
    "df = pd.read_excel('Summer Camp Task Data.xlsx')"
   ]
  },
  {
   "cell_type": "markdown",
   "metadata": {},
   "source": [
    "# "
   ]
  },
  {
   "cell_type": "markdown",
   "metadata": {},
   "source": [
    "describe and show local info about dataset"
   ]
  },
  {
   "cell_type": "code",
   "execution_count": 726,
   "metadata": {},
   "outputs": [
    {
     "name": "stdout",
     "output_type": "stream",
     "text": [
      "<class 'pandas.core.frame.DataFrame'>\n",
      "RangeIndex: 111083 entries, 0 to 111082\n",
      "Data columns (total 8 columns):\n",
      " #   Column                   Non-Null Count   Dtype  \n",
      "---  ------                   --------------   -----  \n",
      " 0   action                   111083 non-null  object \n",
      " 1   created_at               111083 non-null  int64  \n",
      " 2   source_event_id          111083 non-null  object \n",
      " 3   device_id                109596 non-null  object \n",
      " 4   post_page_offset         35287 non-null   float64\n",
      " 5   tokens                   35287 non-null   object \n",
      " 6   post_index_in_post_list  75796 non-null   float64\n",
      " 7   post_token               75795 non-null   object \n",
      "dtypes: float64(2), int64(1), object(5)\n",
      "memory usage: 6.8+ MB\n"
     ]
    }
   ],
   "source": [
    "user_data = pd.DataFrame(df)\n",
    "user_data.info()"
   ]
  },
  {
   "cell_type": "code",
   "execution_count": 727,
   "metadata": {},
   "outputs": [
    {
     "data": {
      "text/html": [
       "<div>\n",
       "<style scoped>\n",
       "    .dataframe tbody tr th:only-of-type {\n",
       "        vertical-align: middle;\n",
       "    }\n",
       "\n",
       "    .dataframe tbody tr th {\n",
       "        vertical-align: top;\n",
       "    }\n",
       "\n",
       "    .dataframe thead th {\n",
       "        text-align: right;\n",
       "    }\n",
       "</style>\n",
       "<table border=\"1\" class=\"dataframe\">\n",
       "  <thead>\n",
       "    <tr style=\"text-align: right;\">\n",
       "      <th></th>\n",
       "      <th>created_at</th>\n",
       "      <th>post_page_offset</th>\n",
       "      <th>post_index_in_post_list</th>\n",
       "    </tr>\n",
       "  </thead>\n",
       "  <tbody>\n",
       "    <tr>\n",
       "      <th>count</th>\n",
       "      <td>1.110830e+05</td>\n",
       "      <td>35287.000000</td>\n",
       "      <td>75796.000000</td>\n",
       "    </tr>\n",
       "    <tr>\n",
       "      <th>mean</th>\n",
       "      <td>1.609545e+12</td>\n",
       "      <td>8.673761</td>\n",
       "      <td>127.616418</td>\n",
       "    </tr>\n",
       "    <tr>\n",
       "      <th>std</th>\n",
       "      <td>2.895533e+06</td>\n",
       "      <td>16.059840</td>\n",
       "      <td>272.981195</td>\n",
       "    </tr>\n",
       "    <tr>\n",
       "      <th>min</th>\n",
       "      <td>1.609461e+12</td>\n",
       "      <td>0.000000</td>\n",
       "      <td>1.000000</td>\n",
       "    </tr>\n",
       "    <tr>\n",
       "      <th>25%</th>\n",
       "      <td>1.609544e+12</td>\n",
       "      <td>0.000000</td>\n",
       "      <td>11.000000</td>\n",
       "    </tr>\n",
       "    <tr>\n",
       "      <th>50%</th>\n",
       "      <td>1.609545e+12</td>\n",
       "      <td>3.000000</td>\n",
       "      <td>41.000000</td>\n",
       "    </tr>\n",
       "    <tr>\n",
       "      <th>75%</th>\n",
       "      <td>1.609546e+12</td>\n",
       "      <td>9.000000</td>\n",
       "      <td>124.000000</td>\n",
       "    </tr>\n",
       "    <tr>\n",
       "      <th>max</th>\n",
       "      <td>1.609634e+12</td>\n",
       "      <td>161.000000</td>\n",
       "      <td>5176.000000</td>\n",
       "    </tr>\n",
       "  </tbody>\n",
       "</table>\n",
       "</div>"
      ],
      "text/plain": [
       "         created_at  post_page_offset  post_index_in_post_list\n",
       "count  1.110830e+05      35287.000000             75796.000000\n",
       "mean   1.609545e+12          8.673761               127.616418\n",
       "std    2.895533e+06         16.059840               272.981195\n",
       "min    1.609461e+12          0.000000                 1.000000\n",
       "25%    1.609544e+12          0.000000                11.000000\n",
       "50%    1.609545e+12          3.000000                41.000000\n",
       "75%    1.609546e+12          9.000000               124.000000\n",
       "max    1.609634e+12        161.000000              5176.000000"
      ]
     },
     "execution_count": 727,
     "metadata": {},
     "output_type": "execute_result"
    }
   ],
   "source": [
    "user_data.describe()"
   ]
  },
  {
   "cell_type": "code",
   "execution_count": 728,
   "metadata": {},
   "outputs": [
    {
     "data": {
      "text/html": [
       "<div>\n",
       "<style scoped>\n",
       "    .dataframe tbody tr th:only-of-type {\n",
       "        vertical-align: middle;\n",
       "    }\n",
       "\n",
       "    .dataframe tbody tr th {\n",
       "        vertical-align: top;\n",
       "    }\n",
       "\n",
       "    .dataframe thead th {\n",
       "        text-align: right;\n",
       "    }\n",
       "</style>\n",
       "<table border=\"1\" class=\"dataframe\">\n",
       "  <thead>\n",
       "    <tr style=\"text-align: right;\">\n",
       "      <th></th>\n",
       "      <th>action</th>\n",
       "      <th>source_event_id</th>\n",
       "      <th>device_id</th>\n",
       "      <th>tokens</th>\n",
       "      <th>post_token</th>\n",
       "    </tr>\n",
       "  </thead>\n",
       "  <tbody>\n",
       "    <tr>\n",
       "      <th>count</th>\n",
       "      <td>111083</td>\n",
       "      <td>111083</td>\n",
       "      <td>109596</td>\n",
       "      <td>35287</td>\n",
       "      <td>75795</td>\n",
       "    </tr>\n",
       "    <tr>\n",
       "      <th>unique</th>\n",
       "      <td>2</td>\n",
       "      <td>14296</td>\n",
       "      <td>5012</td>\n",
       "      <td>29800</td>\n",
       "      <td>56804</td>\n",
       "    </tr>\n",
       "    <tr>\n",
       "      <th>top</th>\n",
       "      <td>click_post</td>\n",
       "      <td>fcc9fb48-fdc4-47b9-8047-081c6ca0d77a</td>\n",
       "      <td>xDpNOwohTt2TsVq5EEVpHQ</td>\n",
       "      <td>[wXvHbNqU, wXvDrof9, wXv_aXHk, wXvDrSIa, wXv_a...</td>\n",
       "      <td>wXvz5Kzy</td>\n",
       "    </tr>\n",
       "    <tr>\n",
       "      <th>freq</th>\n",
       "      <td>75796</td>\n",
       "      <td>193</td>\n",
       "      <td>293</td>\n",
       "      <td>58</td>\n",
       "      <td>32</td>\n",
       "    </tr>\n",
       "  </tbody>\n",
       "</table>\n",
       "</div>"
      ],
      "text/plain": [
       "            action                       source_event_id  \\\n",
       "count       111083                                111083   \n",
       "unique           2                                 14296   \n",
       "top     click_post  fcc9fb48-fdc4-47b9-8047-081c6ca0d77a   \n",
       "freq         75796                                   193   \n",
       "\n",
       "                     device_id  \\\n",
       "count                   109596   \n",
       "unique                    5012   \n",
       "top     xDpNOwohTt2TsVq5EEVpHQ   \n",
       "freq                       293   \n",
       "\n",
       "                                                   tokens post_token  \n",
       "count                                               35287      75795  \n",
       "unique                                              29800      56804  \n",
       "top     [wXvHbNqU, wXvDrof9, wXv_aXHk, wXvDrSIa, wXv_a...   wXvz5Kzy  \n",
       "freq                                                   58         32  "
      ]
     },
     "execution_count": 728,
     "metadata": {},
     "output_type": "execute_result"
    }
   ],
   "source": [
    "user_data.describe(include = 'object')"
   ]
  },
  {
   "cell_type": "markdown",
   "metadata": {},
   "source": [
    "# show head and tail of the data and labels  "
   ]
  },
  {
   "cell_type": "code",
   "execution_count": 729,
   "metadata": {},
   "outputs": [
    {
     "data": {
      "text/html": [
       "<div>\n",
       "<style scoped>\n",
       "    .dataframe tbody tr th:only-of-type {\n",
       "        vertical-align: middle;\n",
       "    }\n",
       "\n",
       "    .dataframe tbody tr th {\n",
       "        vertical-align: top;\n",
       "    }\n",
       "\n",
       "    .dataframe thead th {\n",
       "        text-align: right;\n",
       "    }\n",
       "</style>\n",
       "<table border=\"1\" class=\"dataframe\">\n",
       "  <thead>\n",
       "    <tr style=\"text-align: right;\">\n",
       "      <th></th>\n",
       "      <th>action</th>\n",
       "      <th>created_at</th>\n",
       "      <th>source_event_id</th>\n",
       "      <th>device_id</th>\n",
       "      <th>post_page_offset</th>\n",
       "      <th>tokens</th>\n",
       "      <th>post_index_in_post_list</th>\n",
       "      <th>post_token</th>\n",
       "    </tr>\n",
       "  </thead>\n",
       "  <tbody>\n",
       "    <tr>\n",
       "      <th>0</th>\n",
       "      <td>load_post_page</td>\n",
       "      <td>1609545001150</td>\n",
       "      <td>1575558c-a702-46ef-8e18-bc5cef761473</td>\n",
       "      <td>Ed9EADRZRXCHcrcEP_Hnkg</td>\n",
       "      <td>26.0</td>\n",
       "      <td>[wXvP3enu, wXvHXzUS, wXvPHXVe, wXvPHRs3, wXvH3...</td>\n",
       "      <td>NaN</td>\n",
       "      <td>NaN</td>\n",
       "    </tr>\n",
       "    <tr>\n",
       "      <th>1</th>\n",
       "      <td>load_post_page</td>\n",
       "      <td>1609545121641</td>\n",
       "      <td>0fd004f4-ce9b-4766-ac96-7578dedebacb</td>\n",
       "      <td>5aVIp_PNSAWxqwBETYpmxQ</td>\n",
       "      <td>19.0</td>\n",
       "      <td>[wXujANbk, wXurAJsf, wXufwlh1, wXtr_4tD, wXujg...</td>\n",
       "      <td>NaN</td>\n",
       "      <td>NaN</td>\n",
       "    </tr>\n",
       "    <tr>\n",
       "      <th>2</th>\n",
       "      <td>load_post_page</td>\n",
       "      <td>1609545009147</td>\n",
       "      <td>479905f2-3bb4-4c90-8e88-5ce4b60d0a73</td>\n",
       "      <td>mt0UAT4AQe2dECdXBvKYBA</td>\n",
       "      <td>0.0</td>\n",
       "      <td>[wXvHbNqU, wXvDrof9, wXv_aXHk, wXvDrSIa, wXv_a...</td>\n",
       "      <td>NaN</td>\n",
       "      <td>NaN</td>\n",
       "    </tr>\n",
       "    <tr>\n",
       "      <th>3</th>\n",
       "      <td>load_post_page</td>\n",
       "      <td>1609546776979</td>\n",
       "      <td>b9b609bd-a486-42fb-b1a9-5ca03cf4a215</td>\n",
       "      <td>huSKUX-mSwyUcGzgSbXX6g</td>\n",
       "      <td>0.0</td>\n",
       "      <td>[wXvb7cpv, wXvH3hL0, wXvjmDaE, wXvT0sOS, wXv_j...</td>\n",
       "      <td>NaN</td>\n",
       "      <td>NaN</td>\n",
       "    </tr>\n",
       "    <tr>\n",
       "      <th>4</th>\n",
       "      <td>load_post_page</td>\n",
       "      <td>1609547182717</td>\n",
       "      <td>6c390fce-34b6-4e19-837e-6bc295a72514</td>\n",
       "      <td>sL5fLDdoR9a7aDGPP8N-jA</td>\n",
       "      <td>1.0</td>\n",
       "      <td>[wXvjJTIc, wXvb5_SX, wXvb54Gs, wXvb5t6J, wXvbJ...</td>\n",
       "      <td>NaN</td>\n",
       "      <td>NaN</td>\n",
       "    </tr>\n",
       "  </tbody>\n",
       "</table>\n",
       "</div>"
      ],
      "text/plain": [
       "           action     created_at                       source_event_id  \\\n",
       "0  load_post_page  1609545001150  1575558c-a702-46ef-8e18-bc5cef761473   \n",
       "1  load_post_page  1609545121641  0fd004f4-ce9b-4766-ac96-7578dedebacb   \n",
       "2  load_post_page  1609545009147  479905f2-3bb4-4c90-8e88-5ce4b60d0a73   \n",
       "3  load_post_page  1609546776979  b9b609bd-a486-42fb-b1a9-5ca03cf4a215   \n",
       "4  load_post_page  1609547182717  6c390fce-34b6-4e19-837e-6bc295a72514   \n",
       "\n",
       "                device_id  post_page_offset  \\\n",
       "0  Ed9EADRZRXCHcrcEP_Hnkg              26.0   \n",
       "1  5aVIp_PNSAWxqwBETYpmxQ              19.0   \n",
       "2  mt0UAT4AQe2dECdXBvKYBA               0.0   \n",
       "3  huSKUX-mSwyUcGzgSbXX6g               0.0   \n",
       "4  sL5fLDdoR9a7aDGPP8N-jA               1.0   \n",
       "\n",
       "                                              tokens  post_index_in_post_list  \\\n",
       "0  [wXvP3enu, wXvHXzUS, wXvPHXVe, wXvPHRs3, wXvH3...                      NaN   \n",
       "1  [wXujANbk, wXurAJsf, wXufwlh1, wXtr_4tD, wXujg...                      NaN   \n",
       "2  [wXvHbNqU, wXvDrof9, wXv_aXHk, wXvDrSIa, wXv_a...                      NaN   \n",
       "3  [wXvb7cpv, wXvH3hL0, wXvjmDaE, wXvT0sOS, wXv_j...                      NaN   \n",
       "4  [wXvjJTIc, wXvb5_SX, wXvb54Gs, wXvb5t6J, wXvbJ...                      NaN   \n",
       "\n",
       "  post_token  \n",
       "0        NaN  \n",
       "1        NaN  \n",
       "2        NaN  \n",
       "3        NaN  \n",
       "4        NaN  "
      ]
     },
     "execution_count": 729,
     "metadata": {},
     "output_type": "execute_result"
    }
   ],
   "source": [
    " user_data.head()"
   ]
  },
  {
   "cell_type": "code",
   "execution_count": 730,
   "metadata": {},
   "outputs": [
    {
     "data": {
      "text/html": [
       "<div>\n",
       "<style scoped>\n",
       "    .dataframe tbody tr th:only-of-type {\n",
       "        vertical-align: middle;\n",
       "    }\n",
       "\n",
       "    .dataframe tbody tr th {\n",
       "        vertical-align: top;\n",
       "    }\n",
       "\n",
       "    .dataframe thead th {\n",
       "        text-align: right;\n",
       "    }\n",
       "</style>\n",
       "<table border=\"1\" class=\"dataframe\">\n",
       "  <thead>\n",
       "    <tr style=\"text-align: right;\">\n",
       "      <th></th>\n",
       "      <th>action</th>\n",
       "      <th>created_at</th>\n",
       "      <th>source_event_id</th>\n",
       "      <th>device_id</th>\n",
       "      <th>post_page_offset</th>\n",
       "      <th>tokens</th>\n",
       "      <th>post_index_in_post_list</th>\n",
       "      <th>post_token</th>\n",
       "    </tr>\n",
       "  </thead>\n",
       "  <tbody>\n",
       "    <tr>\n",
       "      <th>111073</th>\n",
       "      <td>load_post_page</td>\n",
       "      <td>1609547154158</td>\n",
       "      <td>3ff132d2-e2d2-4f97-9e78-cc9e6ff153f2</td>\n",
       "      <td>10LrN1zyQJWoeD9AGQjp8A</td>\n",
       "      <td>5.0</td>\n",
       "      <td>[wXvTJ9WH, wXnGh4WF, wXvTJYbx, wXvT5OVN, wXvHZ...</td>\n",
       "      <td>NaN</td>\n",
       "      <td>NaN</td>\n",
       "    </tr>\n",
       "    <tr>\n",
       "      <th>111074</th>\n",
       "      <td>load_post_page</td>\n",
       "      <td>1609546335661</td>\n",
       "      <td>35b32783-cc75-41e6-9d3c-c49d10b9c805</td>\n",
       "      <td>ZkQZoNGfTragZMTZVLZaiQ</td>\n",
       "      <td>2.0</td>\n",
       "      <td>[wXsj4xKM, wXbrREI_, wXsXHsER, wXsT1zek, wXs_0...</td>\n",
       "      <td>NaN</td>\n",
       "      <td>NaN</td>\n",
       "    </tr>\n",
       "    <tr>\n",
       "      <th>111075</th>\n",
       "      <td>load_post_page</td>\n",
       "      <td>1609547225375</td>\n",
       "      <td>a6e45d4f-22ce-496d-b14f-f5742fec6928</td>\n",
       "      <td>eCgzBkCyTomWp9MI-haPMA</td>\n",
       "      <td>3.0</td>\n",
       "      <td>[wXhm-882, wXsTYYxA, wXsjm0U-, wXsjWenL, wXs_U...</td>\n",
       "      <td>NaN</td>\n",
       "      <td>NaN</td>\n",
       "    </tr>\n",
       "    <tr>\n",
       "      <th>111076</th>\n",
       "      <td>load_post_page</td>\n",
       "      <td>1609546139440</td>\n",
       "      <td>495bf2c5-468b-4828-9a93-55fcd3002558</td>\n",
       "      <td>3fMzOsSZQQGTqhURGW080w</td>\n",
       "      <td>16.0</td>\n",
       "      <td>[wXv3k6sW, wXvrFTEE, wXvr1BLe, wXvrFLHM, wXvr1...</td>\n",
       "      <td>NaN</td>\n",
       "      <td>NaN</td>\n",
       "    </tr>\n",
       "    <tr>\n",
       "      <th>111077</th>\n",
       "      <td>load_post_page</td>\n",
       "      <td>1609547106566</td>\n",
       "      <td>1aa6fb30-cc69-457d-9095-6b95b58b6601</td>\n",
       "      <td>_uh8MsmPTzeEb_1QdJo7QA</td>\n",
       "      <td>2.0</td>\n",
       "      <td>[wXdnwj-w, wXvj1zE2, wXOvC_Lq, wXpP9Eqb, wXvXl...</td>\n",
       "      <td>NaN</td>\n",
       "      <td>NaN</td>\n",
       "    </tr>\n",
       "    <tr>\n",
       "      <th>111078</th>\n",
       "      <td>load_post_page</td>\n",
       "      <td>1609546941659</td>\n",
       "      <td>f55b2133-4f95-4cc5-8d18-1b47bd3dca63</td>\n",
       "      <td>hiJArdXuQ_a3zVxEsmkDjQ</td>\n",
       "      <td>0.0</td>\n",
       "      <td>[wXv3qoPQ, wXvT7ylu, wXvnIJuH, wXvXH7vy, wXvDX...</td>\n",
       "      <td>NaN</td>\n",
       "      <td>NaN</td>\n",
       "    </tr>\n",
       "    <tr>\n",
       "      <th>111079</th>\n",
       "      <td>load_post_page</td>\n",
       "      <td>1609547257051</td>\n",
       "      <td>14282fc7-f431-43b6-8c07-423f33be3d74</td>\n",
       "      <td>NaN</td>\n",
       "      <td>1.0</td>\n",
       "      <td>[wXYr2lVk, wXXj7iDP, wXXXIsQr, wXQbXKz6, wXN3t...</td>\n",
       "      <td>NaN</td>\n",
       "      <td>NaN</td>\n",
       "    </tr>\n",
       "    <tr>\n",
       "      <th>111080</th>\n",
       "      <td>load_post_page</td>\n",
       "      <td>1609546292003</td>\n",
       "      <td>0a859885-a19b-4420-a9e4-2259eca6765d</td>\n",
       "      <td>g0IAfhwXTYa5rdrk96jXFQ</td>\n",
       "      <td>9.0</td>\n",
       "      <td>[wXr_jZmX, wXr7D0AM, wXrzjhxL, wXrfjQNe, wXrni...</td>\n",
       "      <td>NaN</td>\n",
       "      <td>NaN</td>\n",
       "    </tr>\n",
       "    <tr>\n",
       "      <th>111081</th>\n",
       "      <td>load_post_page</td>\n",
       "      <td>1609546304942</td>\n",
       "      <td>4ec64b79-27c4-4fba-b84c-b877dc82970a</td>\n",
       "      <td>TzlVSQK7S16V0TPyGELMKQ</td>\n",
       "      <td>0.0</td>\n",
       "      <td>[wXv3aQrv, wXvn6ONM, wXvfaG0M, wXvf6LIr, wXvjJ...</td>\n",
       "      <td>NaN</td>\n",
       "      <td>NaN</td>\n",
       "    </tr>\n",
       "    <tr>\n",
       "      <th>111082</th>\n",
       "      <td>load_post_page</td>\n",
       "      <td>1609547165297</td>\n",
       "      <td>5ea5de7d-1f85-4251-b3c1-6e71d4730fd4</td>\n",
       "      <td>Xe03AM5rQgu6jpGPZ4mGEw</td>\n",
       "      <td>2.0</td>\n",
       "      <td>[wXoDui-2, wXoT9yTg, wXoznZ93, wXormLxu, wXMX-...</td>\n",
       "      <td>NaN</td>\n",
       "      <td>NaN</td>\n",
       "    </tr>\n",
       "  </tbody>\n",
       "</table>\n",
       "</div>"
      ],
      "text/plain": [
       "                action     created_at                       source_event_id  \\\n",
       "111073  load_post_page  1609547154158  3ff132d2-e2d2-4f97-9e78-cc9e6ff153f2   \n",
       "111074  load_post_page  1609546335661  35b32783-cc75-41e6-9d3c-c49d10b9c805   \n",
       "111075  load_post_page  1609547225375  a6e45d4f-22ce-496d-b14f-f5742fec6928   \n",
       "111076  load_post_page  1609546139440  495bf2c5-468b-4828-9a93-55fcd3002558   \n",
       "111077  load_post_page  1609547106566  1aa6fb30-cc69-457d-9095-6b95b58b6601   \n",
       "111078  load_post_page  1609546941659  f55b2133-4f95-4cc5-8d18-1b47bd3dca63   \n",
       "111079  load_post_page  1609547257051  14282fc7-f431-43b6-8c07-423f33be3d74   \n",
       "111080  load_post_page  1609546292003  0a859885-a19b-4420-a9e4-2259eca6765d   \n",
       "111081  load_post_page  1609546304942  4ec64b79-27c4-4fba-b84c-b877dc82970a   \n",
       "111082  load_post_page  1609547165297  5ea5de7d-1f85-4251-b3c1-6e71d4730fd4   \n",
       "\n",
       "                     device_id  post_page_offset  \\\n",
       "111073  10LrN1zyQJWoeD9AGQjp8A               5.0   \n",
       "111074  ZkQZoNGfTragZMTZVLZaiQ               2.0   \n",
       "111075  eCgzBkCyTomWp9MI-haPMA               3.0   \n",
       "111076  3fMzOsSZQQGTqhURGW080w              16.0   \n",
       "111077  _uh8MsmPTzeEb_1QdJo7QA               2.0   \n",
       "111078  hiJArdXuQ_a3zVxEsmkDjQ               0.0   \n",
       "111079                     NaN               1.0   \n",
       "111080  g0IAfhwXTYa5rdrk96jXFQ               9.0   \n",
       "111081  TzlVSQK7S16V0TPyGELMKQ               0.0   \n",
       "111082  Xe03AM5rQgu6jpGPZ4mGEw               2.0   \n",
       "\n",
       "                                                   tokens  \\\n",
       "111073  [wXvTJ9WH, wXnGh4WF, wXvTJYbx, wXvT5OVN, wXvHZ...   \n",
       "111074  [wXsj4xKM, wXbrREI_, wXsXHsER, wXsT1zek, wXs_0...   \n",
       "111075  [wXhm-882, wXsTYYxA, wXsjm0U-, wXsjWenL, wXs_U...   \n",
       "111076  [wXv3k6sW, wXvrFTEE, wXvr1BLe, wXvrFLHM, wXvr1...   \n",
       "111077  [wXdnwj-w, wXvj1zE2, wXOvC_Lq, wXpP9Eqb, wXvXl...   \n",
       "111078  [wXv3qoPQ, wXvT7ylu, wXvnIJuH, wXvXH7vy, wXvDX...   \n",
       "111079  [wXYr2lVk, wXXj7iDP, wXXXIsQr, wXQbXKz6, wXN3t...   \n",
       "111080  [wXr_jZmX, wXr7D0AM, wXrzjhxL, wXrfjQNe, wXrni...   \n",
       "111081  [wXv3aQrv, wXvn6ONM, wXvfaG0M, wXvf6LIr, wXvjJ...   \n",
       "111082  [wXoDui-2, wXoT9yTg, wXoznZ93, wXormLxu, wXMX-...   \n",
       "\n",
       "        post_index_in_post_list post_token  \n",
       "111073                      NaN        NaN  \n",
       "111074                      NaN        NaN  \n",
       "111075                      NaN        NaN  \n",
       "111076                      NaN        NaN  \n",
       "111077                      NaN        NaN  \n",
       "111078                      NaN        NaN  \n",
       "111079                      NaN        NaN  \n",
       "111080                      NaN        NaN  \n",
       "111081                      NaN        NaN  \n",
       "111082                      NaN        NaN  "
      ]
     },
     "execution_count": 730,
     "metadata": {},
     "output_type": "execute_result"
    }
   ],
   "source": [
    " user_data.tail(10) "
   ]
  },
  {
   "cell_type": "code",
   "execution_count": 731,
   "metadata": {
    "tags": []
   },
   "outputs": [
    {
     "data": {
      "text/html": [
       "<div>\n",
       "<style scoped>\n",
       "    .dataframe tbody tr th:only-of-type {\n",
       "        vertical-align: middle;\n",
       "    }\n",
       "\n",
       "    .dataframe tbody tr th {\n",
       "        vertical-align: top;\n",
       "    }\n",
       "\n",
       "    .dataframe thead th {\n",
       "        text-align: right;\n",
       "    }\n",
       "</style>\n",
       "<table border=\"1\" class=\"dataframe\">\n",
       "  <thead>\n",
       "    <tr style=\"text-align: right;\">\n",
       "      <th></th>\n",
       "      <th>action</th>\n",
       "      <th>created_at</th>\n",
       "      <th>source_event_id</th>\n",
       "      <th>device_id</th>\n",
       "      <th>post_page_offset</th>\n",
       "      <th>tokens</th>\n",
       "      <th>post_index_in_post_list</th>\n",
       "      <th>post_token</th>\n",
       "    </tr>\n",
       "  </thead>\n",
       "  <tbody>\n",
       "  </tbody>\n",
       "</table>\n",
       "</div>"
      ],
      "text/plain": [
       "Empty DataFrame\n",
       "Columns: [action, created_at, source_event_id, device_id, post_page_offset, tokens, post_index_in_post_list, post_token]\n",
       "Index: []"
      ]
     },
     "execution_count": 731,
     "metadata": {},
     "output_type": "execute_result"
    }
   ],
   "source": [
    "labes = user_data.iloc[:0,:]\n",
    "labes"
   ]
  },
  {
   "cell_type": "code",
   "execution_count": 732,
   "metadata": {},
   "outputs": [
    {
     "data": {
      "text/plain": [
       "Index(['action', 'created_at', 'source_event_id', 'device_id',\n",
       "       'post_page_offset', 'tokens', 'post_index_in_post_list', 'post_token'],\n",
       "      dtype='object')"
      ]
     },
     "execution_count": 732,
     "metadata": {},
     "output_type": "execute_result"
    }
   ],
   "source": [
    "user_data.columns"
   ]
  },
  {
   "cell_type": "code",
   "execution_count": 733,
   "metadata": {},
   "outputs": [
    {
     "data": {
      "text/plain": [
       "action                      object\n",
       "created_at                   int64\n",
       "source_event_id             object\n",
       "device_id                   object\n",
       "post_page_offset           float64\n",
       "tokens                      object\n",
       "post_index_in_post_list    float64\n",
       "post_token                  object\n",
       "dtype: object"
      ]
     },
     "execution_count": 733,
     "metadata": {},
     "output_type": "execute_result"
    }
   ],
   "source": [
    "user_data.dtypes"
   ]
  },
  {
   "cell_type": "code",
   "execution_count": 734,
   "metadata": {},
   "outputs": [
    {
     "data": {
      "text/html": [
       "<div>\n",
       "<style scoped>\n",
       "    .dataframe tbody tr th:only-of-type {\n",
       "        vertical-align: middle;\n",
       "    }\n",
       "\n",
       "    .dataframe tbody tr th {\n",
       "        vertical-align: top;\n",
       "    }\n",
       "\n",
       "    .dataframe thead th {\n",
       "        text-align: right;\n",
       "    }\n",
       "</style>\n",
       "<table border=\"1\" class=\"dataframe\">\n",
       "  <thead>\n",
       "    <tr style=\"text-align: right;\">\n",
       "      <th></th>\n",
       "      <th>action</th>\n",
       "      <th>created_at</th>\n",
       "      <th>source_event_id</th>\n",
       "      <th>device_id</th>\n",
       "      <th>post_page_offset</th>\n",
       "      <th>tokens</th>\n",
       "      <th>post_index_in_post_list</th>\n",
       "      <th>post_token</th>\n",
       "    </tr>\n",
       "  </thead>\n",
       "  <tbody>\n",
       "    <tr>\n",
       "      <th>5429</th>\n",
       "      <td>click_post</td>\n",
       "      <td>1609545002418</td>\n",
       "      <td>be60130c-a660-4e23-954d-9bcf08377b24</td>\n",
       "      <td>VVaoaGZQQcysup51b96xFQ</td>\n",
       "      <td>NaN</td>\n",
       "      <td>NaN</td>\n",
       "      <td>3.0</td>\n",
       "      <td>wXq3yGW3</td>\n",
       "    </tr>\n",
       "    <tr>\n",
       "      <th>5430</th>\n",
       "      <td>click_post</td>\n",
       "      <td>1609545878642</td>\n",
       "      <td>7cb93ab5-e0ec-4d5a-9245-b2e3ad87b9c3</td>\n",
       "      <td>kMPcgmnnRzGoVRomPVRz9A</td>\n",
       "      <td>NaN</td>\n",
       "      <td>NaN</td>\n",
       "      <td>267.0</td>\n",
       "      <td>wXrn2a0w</td>\n",
       "    </tr>\n",
       "    <tr>\n",
       "      <th>5431</th>\n",
       "      <td>click_post</td>\n",
       "      <td>1609544879533</td>\n",
       "      <td>461e9683-e679-4448-bee3-d0b07353ab5d</td>\n",
       "      <td>bjiXJIm6RaWaw_7ASh5Gdw</td>\n",
       "      <td>NaN</td>\n",
       "      <td>NaN</td>\n",
       "      <td>6.0</td>\n",
       "      <td>wXv7xXEj</td>\n",
       "    </tr>\n",
       "    <tr>\n",
       "      <th>5432</th>\n",
       "      <td>click_post</td>\n",
       "      <td>1609544027300</td>\n",
       "      <td>969745e6-25e5-46af-8c1b-f506429944f6</td>\n",
       "      <td>odyBXuz3Qn2-gmdEX-_ZOg</td>\n",
       "      <td>NaN</td>\n",
       "      <td>NaN</td>\n",
       "      <td>17.0</td>\n",
       "      <td>wXnnSi0l</td>\n",
       "    </tr>\n",
       "    <tr>\n",
       "      <th>5433</th>\n",
       "      <td>click_post</td>\n",
       "      <td>1609547063017</td>\n",
       "      <td>5c422ed2-c7d5-4653-ac9c-1e2e890b97b5</td>\n",
       "      <td>_lgH2bn7Ty-6DuxrClGKUw</td>\n",
       "      <td>NaN</td>\n",
       "      <td>NaN</td>\n",
       "      <td>174.0</td>\n",
       "      <td>wXqv95zt</td>\n",
       "    </tr>\n",
       "  </tbody>\n",
       "</table>\n",
       "</div>"
      ],
      "text/plain": [
       "          action     created_at                       source_event_id  \\\n",
       "5429  click_post  1609545002418  be60130c-a660-4e23-954d-9bcf08377b24   \n",
       "5430  click_post  1609545878642  7cb93ab5-e0ec-4d5a-9245-b2e3ad87b9c3   \n",
       "5431  click_post  1609544879533  461e9683-e679-4448-bee3-d0b07353ab5d   \n",
       "5432  click_post  1609544027300  969745e6-25e5-46af-8c1b-f506429944f6   \n",
       "5433  click_post  1609547063017  5c422ed2-c7d5-4653-ac9c-1e2e890b97b5   \n",
       "\n",
       "                   device_id  post_page_offset tokens  \\\n",
       "5429  VVaoaGZQQcysup51b96xFQ               NaN    NaN   \n",
       "5430  kMPcgmnnRzGoVRomPVRz9A               NaN    NaN   \n",
       "5431  bjiXJIm6RaWaw_7ASh5Gdw               NaN    NaN   \n",
       "5432  odyBXuz3Qn2-gmdEX-_ZOg               NaN    NaN   \n",
       "5433  _lgH2bn7Ty-6DuxrClGKUw               NaN    NaN   \n",
       "\n",
       "      post_index_in_post_list post_token  \n",
       "5429                      3.0   wXq3yGW3  \n",
       "5430                    267.0   wXrn2a0w  \n",
       "5431                      6.0   wXv7xXEj  \n",
       "5432                     17.0   wXnnSi0l  \n",
       "5433                    174.0   wXqv95zt  "
      ]
     },
     "execution_count": 734,
     "metadata": {},
     "output_type": "execute_result"
    }
   ],
   "source": [
    "user_data[user_data['action']=='click_post'].head()"
   ]
  },
  {
   "cell_type": "code",
   "execution_count": 735,
   "metadata": {},
   "outputs": [
    {
     "data": {
      "text/html": [
       "<div>\n",
       "<style scoped>\n",
       "    .dataframe tbody tr th:only-of-type {\n",
       "        vertical-align: middle;\n",
       "    }\n",
       "\n",
       "    .dataframe tbody tr th {\n",
       "        vertical-align: top;\n",
       "    }\n",
       "\n",
       "    .dataframe thead th {\n",
       "        text-align: right;\n",
       "    }\n",
       "</style>\n",
       "<table border=\"1\" class=\"dataframe\">\n",
       "  <thead>\n",
       "    <tr style=\"text-align: right;\">\n",
       "      <th></th>\n",
       "      <th>action</th>\n",
       "      <th>created_at</th>\n",
       "      <th>source_event_id</th>\n",
       "      <th>device_id</th>\n",
       "      <th>post_page_offset</th>\n",
       "      <th>tokens</th>\n",
       "      <th>post_index_in_post_list</th>\n",
       "      <th>post_token</th>\n",
       "    </tr>\n",
       "  </thead>\n",
       "  <tbody>\n",
       "    <tr>\n",
       "      <th>26178</th>\n",
       "      <td>load_post_page</td>\n",
       "      <td>1609461369213</td>\n",
       "      <td>1fc5ef66-aaad-4cf5-8e36-1e974de66fdf</td>\n",
       "      <td>lJgu0b3FQG6_grFbXenl2Q</td>\n",
       "      <td>0.0</td>\n",
       "      <td>[wXtbOKF-, wXtLeB6p, wXpbfeIJ, wXt38PoX, wXt7K...</td>\n",
       "      <td>NaN</td>\n",
       "      <td>NaN</td>\n",
       "    </tr>\n",
       "    <tr>\n",
       "      <th>56013</th>\n",
       "      <td>load_post_page</td>\n",
       "      <td>1609461378164</td>\n",
       "      <td>79910930-7296-4342-ae09-8e55e4803940</td>\n",
       "      <td>lJgu0b3FQG6_grFbXenl2Q</td>\n",
       "      <td>0.0</td>\n",
       "      <td>[wXvPByYA, wXmHw9qd, wXsPnrBu, wXsTzSjv, wXrXX...</td>\n",
       "      <td>NaN</td>\n",
       "      <td>NaN</td>\n",
       "    </tr>\n",
       "    <tr>\n",
       "      <th>68800</th>\n",
       "      <td>load_post_page</td>\n",
       "      <td>1609461425007</td>\n",
       "      <td>79910930-7296-4342-ae09-8e55e4803940</td>\n",
       "      <td>lJgu0b3FQG6_grFbXenl2Q</td>\n",
       "      <td>1.0</td>\n",
       "      <td>[wXWrwAAW, wXVXrn3e, wXUrG55o, wXRvrx9F, wXIX6...</td>\n",
       "      <td>NaN</td>\n",
       "      <td>NaN</td>\n",
       "    </tr>\n",
       "    <tr>\n",
       "      <th>102202</th>\n",
       "      <td>load_post_page</td>\n",
       "      <td>1609461448740</td>\n",
       "      <td>21a5377e-c7c2-4b08-805c-6b580e0f074d</td>\n",
       "      <td>lJgu0b3FQG6_grFbXenl2Q</td>\n",
       "      <td>0.0</td>\n",
       "      <td>[wXtT-_XF, wXs_6TLh, wXpneaBg, wXpX9Pdu, wXoL-...</td>\n",
       "      <td>NaN</td>\n",
       "      <td>NaN</td>\n",
       "    </tr>\n",
       "    <tr>\n",
       "      <th>24308</th>\n",
       "      <td>click_post</td>\n",
       "      <td>1609461463452</td>\n",
       "      <td>21a5377e-c7c2-4b08-805c-6b580e0f074d</td>\n",
       "      <td>lJgu0b3FQG6_grFbXenl2Q</td>\n",
       "      <td>NaN</td>\n",
       "      <td>NaN</td>\n",
       "      <td>5.0</td>\n",
       "      <td>wXoL-Kbx</td>\n",
       "    </tr>\n",
       "    <tr>\n",
       "      <th>...</th>\n",
       "      <td>...</td>\n",
       "      <td>...</td>\n",
       "      <td>...</td>\n",
       "      <td>...</td>\n",
       "      <td>...</td>\n",
       "      <td>...</td>\n",
       "      <td>...</td>\n",
       "      <td>...</td>\n",
       "    </tr>\n",
       "    <tr>\n",
       "      <th>49588</th>\n",
       "      <td>click_post</td>\n",
       "      <td>1609633506532</td>\n",
       "      <td>86dd16f9-8356-4a5b-8ad2-be903db7b60a</td>\n",
       "      <td>Q_Ygkm1cSDaU7_NsoUcA9w</td>\n",
       "      <td>NaN</td>\n",
       "      <td>NaN</td>\n",
       "      <td>21.0</td>\n",
       "      <td>wXvzorm4</td>\n",
       "    </tr>\n",
       "    <tr>\n",
       "      <th>44400</th>\n",
       "      <td>click_post</td>\n",
       "      <td>1609633583942</td>\n",
       "      <td>86dd16f9-8356-4a5b-8ad2-be903db7b60a</td>\n",
       "      <td>Q_Ygkm1cSDaU7_NsoUcA9w</td>\n",
       "      <td>NaN</td>\n",
       "      <td>NaN</td>\n",
       "      <td>42.0</td>\n",
       "      <td>wXvTYk8B</td>\n",
       "    </tr>\n",
       "    <tr>\n",
       "      <th>57126</th>\n",
       "      <td>click_post</td>\n",
       "      <td>1609633626592</td>\n",
       "      <td>86dd16f9-8356-4a5b-8ad2-be903db7b60a</td>\n",
       "      <td>Q_Ygkm1cSDaU7_NsoUcA9w</td>\n",
       "      <td>NaN</td>\n",
       "      <td>NaN</td>\n",
       "      <td>45.0</td>\n",
       "      <td>wXvLYCQp</td>\n",
       "    </tr>\n",
       "    <tr>\n",
       "      <th>5550</th>\n",
       "      <td>click_post</td>\n",
       "      <td>1609633642914</td>\n",
       "      <td>86dd16f9-8356-4a5b-8ad2-be903db7b60a</td>\n",
       "      <td>Q_Ygkm1cSDaU7_NsoUcA9w</td>\n",
       "      <td>NaN</td>\n",
       "      <td>NaN</td>\n",
       "      <td>44.0</td>\n",
       "      <td>wXvLoezU</td>\n",
       "    </tr>\n",
       "    <tr>\n",
       "      <th>22088</th>\n",
       "      <td>click_post</td>\n",
       "      <td>1609633712004</td>\n",
       "      <td>86dd16f9-8356-4a5b-8ad2-be903db7b60a</td>\n",
       "      <td>Q_Ygkm1cSDaU7_NsoUcA9w</td>\n",
       "      <td>NaN</td>\n",
       "      <td>NaN</td>\n",
       "      <td>65.0</td>\n",
       "      <td>wXvjHt4X</td>\n",
       "    </tr>\n",
       "  </tbody>\n",
       "</table>\n",
       "<p>111083 rows × 8 columns</p>\n",
       "</div>"
      ],
      "text/plain": [
       "                action     created_at                       source_event_id  \\\n",
       "26178   load_post_page  1609461369213  1fc5ef66-aaad-4cf5-8e36-1e974de66fdf   \n",
       "56013   load_post_page  1609461378164  79910930-7296-4342-ae09-8e55e4803940   \n",
       "68800   load_post_page  1609461425007  79910930-7296-4342-ae09-8e55e4803940   \n",
       "102202  load_post_page  1609461448740  21a5377e-c7c2-4b08-805c-6b580e0f074d   \n",
       "24308       click_post  1609461463452  21a5377e-c7c2-4b08-805c-6b580e0f074d   \n",
       "...                ...            ...                                   ...   \n",
       "49588       click_post  1609633506532  86dd16f9-8356-4a5b-8ad2-be903db7b60a   \n",
       "44400       click_post  1609633583942  86dd16f9-8356-4a5b-8ad2-be903db7b60a   \n",
       "57126       click_post  1609633626592  86dd16f9-8356-4a5b-8ad2-be903db7b60a   \n",
       "5550        click_post  1609633642914  86dd16f9-8356-4a5b-8ad2-be903db7b60a   \n",
       "22088       click_post  1609633712004  86dd16f9-8356-4a5b-8ad2-be903db7b60a   \n",
       "\n",
       "                     device_id  post_page_offset  \\\n",
       "26178   lJgu0b3FQG6_grFbXenl2Q               0.0   \n",
       "56013   lJgu0b3FQG6_grFbXenl2Q               0.0   \n",
       "68800   lJgu0b3FQG6_grFbXenl2Q               1.0   \n",
       "102202  lJgu0b3FQG6_grFbXenl2Q               0.0   \n",
       "24308   lJgu0b3FQG6_grFbXenl2Q               NaN   \n",
       "...                        ...               ...   \n",
       "49588   Q_Ygkm1cSDaU7_NsoUcA9w               NaN   \n",
       "44400   Q_Ygkm1cSDaU7_NsoUcA9w               NaN   \n",
       "57126   Q_Ygkm1cSDaU7_NsoUcA9w               NaN   \n",
       "5550    Q_Ygkm1cSDaU7_NsoUcA9w               NaN   \n",
       "22088   Q_Ygkm1cSDaU7_NsoUcA9w               NaN   \n",
       "\n",
       "                                                   tokens  \\\n",
       "26178   [wXtbOKF-, wXtLeB6p, wXpbfeIJ, wXt38PoX, wXt7K...   \n",
       "56013   [wXvPByYA, wXmHw9qd, wXsPnrBu, wXsTzSjv, wXrXX...   \n",
       "68800   [wXWrwAAW, wXVXrn3e, wXUrG55o, wXRvrx9F, wXIX6...   \n",
       "102202  [wXtT-_XF, wXs_6TLh, wXpneaBg, wXpX9Pdu, wXoL-...   \n",
       "24308                                                 NaN   \n",
       "...                                                   ...   \n",
       "49588                                                 NaN   \n",
       "44400                                                 NaN   \n",
       "57126                                                 NaN   \n",
       "5550                                                  NaN   \n",
       "22088                                                 NaN   \n",
       "\n",
       "        post_index_in_post_list post_token  \n",
       "26178                       NaN        NaN  \n",
       "56013                       NaN        NaN  \n",
       "68800                       NaN        NaN  \n",
       "102202                      NaN        NaN  \n",
       "24308                       5.0   wXoL-Kbx  \n",
       "...                         ...        ...  \n",
       "49588                      21.0   wXvzorm4  \n",
       "44400                      42.0   wXvTYk8B  \n",
       "57126                      45.0   wXvLYCQp  \n",
       "5550                       44.0   wXvLoezU  \n",
       "22088                      65.0   wXvjHt4X  \n",
       "\n",
       "[111083 rows x 8 columns]"
      ]
     },
     "execution_count": 735,
     "metadata": {},
     "output_type": "execute_result"
    }
   ],
   "source": [
    "user_data.sort_values('created_at')"
   ]
  },
  {
   "cell_type": "code",
   "execution_count": 736,
   "metadata": {},
   "outputs": [
    {
     "data": {
      "text/plain": [
       "False"
      ]
     },
     "execution_count": 736,
     "metadata": {},
     "output_type": "execute_result"
    }
   ],
   "source": [
    "user_data.iloc[26178,1]>user_data.iloc[56013,1]"
   ]
  },
  {
   "cell_type": "code",
   "execution_count": 737,
   "metadata": {},
   "outputs": [
    {
     "data": {
      "text/html": [
       "<div>\n",
       "<style scoped>\n",
       "    .dataframe tbody tr th:only-of-type {\n",
       "        vertical-align: middle;\n",
       "    }\n",
       "\n",
       "    .dataframe tbody tr th {\n",
       "        vertical-align: top;\n",
       "    }\n",
       "\n",
       "    .dataframe thead th {\n",
       "        text-align: right;\n",
       "    }\n",
       "</style>\n",
       "<table border=\"1\" class=\"dataframe\">\n",
       "  <thead>\n",
       "    <tr style=\"text-align: right;\">\n",
       "      <th></th>\n",
       "      <th>action</th>\n",
       "      <th>created_at</th>\n",
       "      <th>source_event_id</th>\n",
       "      <th>device_id</th>\n",
       "      <th>post_page_offset</th>\n",
       "      <th>tokens</th>\n",
       "      <th>post_index_in_post_list</th>\n",
       "      <th>post_token</th>\n",
       "    </tr>\n",
       "  </thead>\n",
       "  <tbody>\n",
       "    <tr>\n",
       "      <th>0</th>\n",
       "      <td>False</td>\n",
       "      <td>False</td>\n",
       "      <td>False</td>\n",
       "      <td>False</td>\n",
       "      <td>False</td>\n",
       "      <td>False</td>\n",
       "      <td>True</td>\n",
       "      <td>True</td>\n",
       "    </tr>\n",
       "    <tr>\n",
       "      <th>1</th>\n",
       "      <td>False</td>\n",
       "      <td>False</td>\n",
       "      <td>False</td>\n",
       "      <td>False</td>\n",
       "      <td>False</td>\n",
       "      <td>False</td>\n",
       "      <td>True</td>\n",
       "      <td>True</td>\n",
       "    </tr>\n",
       "    <tr>\n",
       "      <th>2</th>\n",
       "      <td>False</td>\n",
       "      <td>False</td>\n",
       "      <td>False</td>\n",
       "      <td>False</td>\n",
       "      <td>False</td>\n",
       "      <td>False</td>\n",
       "      <td>True</td>\n",
       "      <td>True</td>\n",
       "    </tr>\n",
       "    <tr>\n",
       "      <th>3</th>\n",
       "      <td>False</td>\n",
       "      <td>False</td>\n",
       "      <td>False</td>\n",
       "      <td>False</td>\n",
       "      <td>False</td>\n",
       "      <td>False</td>\n",
       "      <td>True</td>\n",
       "      <td>True</td>\n",
       "    </tr>\n",
       "    <tr>\n",
       "      <th>4</th>\n",
       "      <td>False</td>\n",
       "      <td>False</td>\n",
       "      <td>False</td>\n",
       "      <td>False</td>\n",
       "      <td>False</td>\n",
       "      <td>False</td>\n",
       "      <td>True</td>\n",
       "      <td>True</td>\n",
       "    </tr>\n",
       "    <tr>\n",
       "      <th>...</th>\n",
       "      <td>...</td>\n",
       "      <td>...</td>\n",
       "      <td>...</td>\n",
       "      <td>...</td>\n",
       "      <td>...</td>\n",
       "      <td>...</td>\n",
       "      <td>...</td>\n",
       "      <td>...</td>\n",
       "    </tr>\n",
       "    <tr>\n",
       "      <th>111078</th>\n",
       "      <td>False</td>\n",
       "      <td>False</td>\n",
       "      <td>False</td>\n",
       "      <td>False</td>\n",
       "      <td>False</td>\n",
       "      <td>False</td>\n",
       "      <td>True</td>\n",
       "      <td>True</td>\n",
       "    </tr>\n",
       "    <tr>\n",
       "      <th>111079</th>\n",
       "      <td>False</td>\n",
       "      <td>False</td>\n",
       "      <td>False</td>\n",
       "      <td>True</td>\n",
       "      <td>False</td>\n",
       "      <td>False</td>\n",
       "      <td>True</td>\n",
       "      <td>True</td>\n",
       "    </tr>\n",
       "    <tr>\n",
       "      <th>111080</th>\n",
       "      <td>False</td>\n",
       "      <td>False</td>\n",
       "      <td>False</td>\n",
       "      <td>False</td>\n",
       "      <td>False</td>\n",
       "      <td>False</td>\n",
       "      <td>True</td>\n",
       "      <td>True</td>\n",
       "    </tr>\n",
       "    <tr>\n",
       "      <th>111081</th>\n",
       "      <td>False</td>\n",
       "      <td>False</td>\n",
       "      <td>False</td>\n",
       "      <td>False</td>\n",
       "      <td>False</td>\n",
       "      <td>False</td>\n",
       "      <td>True</td>\n",
       "      <td>True</td>\n",
       "    </tr>\n",
       "    <tr>\n",
       "      <th>111082</th>\n",
       "      <td>False</td>\n",
       "      <td>False</td>\n",
       "      <td>False</td>\n",
       "      <td>False</td>\n",
       "      <td>False</td>\n",
       "      <td>False</td>\n",
       "      <td>True</td>\n",
       "      <td>True</td>\n",
       "    </tr>\n",
       "  </tbody>\n",
       "</table>\n",
       "<p>111083 rows × 8 columns</p>\n",
       "</div>"
      ],
      "text/plain": [
       "        action  created_at  source_event_id  device_id  post_page_offset  \\\n",
       "0        False       False            False      False             False   \n",
       "1        False       False            False      False             False   \n",
       "2        False       False            False      False             False   \n",
       "3        False       False            False      False             False   \n",
       "4        False       False            False      False             False   \n",
       "...        ...         ...              ...        ...               ...   \n",
       "111078   False       False            False      False             False   \n",
       "111079   False       False            False       True             False   \n",
       "111080   False       False            False      False             False   \n",
       "111081   False       False            False      False             False   \n",
       "111082   False       False            False      False             False   \n",
       "\n",
       "        tokens  post_index_in_post_list  post_token  \n",
       "0        False                     True        True  \n",
       "1        False                     True        True  \n",
       "2        False                     True        True  \n",
       "3        False                     True        True  \n",
       "4        False                     True        True  \n",
       "...        ...                      ...         ...  \n",
       "111078   False                     True        True  \n",
       "111079   False                     True        True  \n",
       "111080   False                     True        True  \n",
       "111081   False                     True        True  \n",
       "111082   False                     True        True  \n",
       "\n",
       "[111083 rows x 8 columns]"
      ]
     },
     "execution_count": 737,
     "metadata": {},
     "output_type": "execute_result"
    }
   ],
   "source": [
    "df = user_data.copy()\n",
    "df.isnull()"
   ]
  },
  {
   "cell_type": "code",
   "execution_count": 738,
   "metadata": {},
   "outputs": [
    {
     "data": {
      "text/plain": [
       "<AxesSubplot:>"
      ]
     },
     "execution_count": 738,
     "metadata": {},
     "output_type": "execute_result"
    },
    {
     "data": {
      "image/png": "[encoded data removed]",
      "text/plain": [
       "<Figure size 792x576 with 2 Axes>"
      ]
     },
     "metadata": {},
     "output_type": "display_data"
    }
   ],
   "source": [
    "sns.heatmap(user_data[user_data['action'] == 'load_post_page'].isna(), cmap=\"YlGnBu\")"
   ]
  },
  {
   "cell_type": "markdown",
   "metadata": {},
   "source": [
    " **Looks like some of the device ids are missing in the new dataset.**"
   ]
  },
  {
   "cell_type": "markdown",
   "metadata": {},
   "source": [
    "# "
   ]
  },
  {
   "cell_type": "code",
   "execution_count": 739,
   "metadata": {},
   "outputs": [
    {
     "data": {
      "text/plain": [
       "<AxesSubplot:>"
      ]
     },
     "execution_count": 739,
     "metadata": {},
     "output_type": "execute_result"
    },
    {
     "data": {
      "image/png": "[encoded data removed]",
      "text/plain": [
       "<Figure size 792x576 with 2 Axes>"
      ]
     },
     "metadata": {},
     "output_type": "display_data"
    }
   ],
   "source": [
    "sns.heatmap(user_data[user_data['action'] == 'click_post'].isna(), cmap=\"YlGnBu\")"
   ]
  },
  {
   "cell_type": "markdown",
   "metadata": {},
   "source": [
    "- Some queries are only for click event and don't have corresponding load events\n",
    "- Some of the device ids are missing"
   ]
  },
  {
   "cell_type": "markdown",
   "metadata": {},
   "source": [
    "# heatmap of null data  "
   ]
  },
  {
   "cell_type": "code",
   "execution_count": 740,
   "metadata": {},
   "outputs": [
    {
     "data": {
      "text/plain": [
       "<AxesSubplot:>"
      ]
     },
     "execution_count": 740,
     "metadata": {},
     "output_type": "execute_result"
    },
    {
     "data": {
      "image/png": "[encoded data removed]",
      "text/plain": [
       "<Figure size 792x576 with 2 Axes>"
      ]
     },
     "metadata": {},
     "output_type": "display_data"
    }
   ],
   "source": [
    "sns.heatmap(user_data.isnull(), cmap=\"YlGnBu\")"
   ]
  },
  {
   "cell_type": "code",
   "execution_count": 741,
   "metadata": {},
   "outputs": [
    {
     "data": {
      "text/html": [
       "<div>\n",
       "<style scoped>\n",
       "    .dataframe tbody tr th:only-of-type {\n",
       "        vertical-align: middle;\n",
       "    }\n",
       "\n",
       "    .dataframe tbody tr th {\n",
       "        vertical-align: top;\n",
       "    }\n",
       "\n",
       "    .dataframe thead th {\n",
       "        text-align: right;\n",
       "    }\n",
       "</style>\n",
       "<table border=\"1\" class=\"dataframe\">\n",
       "  <thead>\n",
       "    <tr style=\"text-align: right;\">\n",
       "      <th></th>\n",
       "      <th>click_count</th>\n",
       "      <th>average_post</th>\n",
       "    </tr>\n",
       "    <tr>\n",
       "      <th>post_token</th>\n",
       "      <th></th>\n",
       "      <th></th>\n",
       "    </tr>\n",
       "  </thead>\n",
       "  <tbody>\n",
       "    <tr>\n",
       "      <th>6s-aL4tmC</th>\n",
       "      <td>1</td>\n",
       "      <td>7.000000</td>\n",
       "    </tr>\n",
       "    <tr>\n",
       "      <th>wXtbeCuW</th>\n",
       "      <td>1</td>\n",
       "      <td>2.000000</td>\n",
       "    </tr>\n",
       "    <tr>\n",
       "      <th>wXtbeGUV</th>\n",
       "      <td>1</td>\n",
       "      <td>38.000000</td>\n",
       "    </tr>\n",
       "    <tr>\n",
       "      <th>wXtbebjN</th>\n",
       "      <td>1</td>\n",
       "      <td>290.000000</td>\n",
       "    </tr>\n",
       "    <tr>\n",
       "      <th>wXtbeiVj</th>\n",
       "      <td>1</td>\n",
       "      <td>124.000000</td>\n",
       "    </tr>\n",
       "    <tr>\n",
       "      <th>...</th>\n",
       "      <td>...</td>\n",
       "      <td>...</td>\n",
       "    </tr>\n",
       "    <tr>\n",
       "      <th>wXvjaPcy</th>\n",
       "      <td>24</td>\n",
       "      <td>2.458333</td>\n",
       "    </tr>\n",
       "    <tr>\n",
       "      <th>wXvX4mek</th>\n",
       "      <td>28</td>\n",
       "      <td>26.321429</td>\n",
       "    </tr>\n",
       "    <tr>\n",
       "      <th>wXv_56iR</th>\n",
       "      <td>28</td>\n",
       "      <td>4.000000</td>\n",
       "    </tr>\n",
       "    <tr>\n",
       "      <th>wXv3aQrM</th>\n",
       "      <td>31</td>\n",
       "      <td>5.741935</td>\n",
       "    </tr>\n",
       "    <tr>\n",
       "      <th>wXvz5Kzy</th>\n",
       "      <td>32</td>\n",
       "      <td>9.125000</td>\n",
       "    </tr>\n",
       "  </tbody>\n",
       "</table>\n",
       "<p>56804 rows × 2 columns</p>\n",
       "</div>"
      ],
      "text/plain": [
       "            click_count  average_post\n",
       "post_token                           \n",
       "6s-aL4tmC             1      7.000000\n",
       "wXtbeCuW              1      2.000000\n",
       "wXtbeGUV              1     38.000000\n",
       "wXtbebjN              1    290.000000\n",
       "wXtbeiVj              1    124.000000\n",
       "...                 ...           ...\n",
       "wXvjaPcy             24      2.458333\n",
       "wXvX4mek             28     26.321429\n",
       "wXv_56iR             28      4.000000\n",
       "wXv3aQrM             31      5.741935\n",
       "wXvz5Kzy             32      9.125000\n",
       "\n",
       "[56804 rows x 2 columns]"
      ]
     },
     "execution_count": 741,
     "metadata": {},
     "output_type": "execute_result"
    }
   ],
   "source": [
    "columns = {'action': 'count', 'post_index_in_post_list': 'mean'}\n",
    "plot_labels  = {'action': 'click_count', 'post_index_in_post_list': 'average_post'}\n",
    "time_activity =  user_data[user_data['action'] =='click_post'].groupby('post_token').agg(columns).sort_values('action').rename(columns=plot_labels)\n",
    "time_activity"
   ]
  },
  {
   "cell_type": "code",
   "execution_count": 742,
   "metadata": {},
   "outputs": [
    {
     "data": {
      "text/plain": [
       "<AxesSubplot:xlabel='click_count', ylabel='average_post'>"
      ]
     },
     "execution_count": 742,
     "metadata": {},
     "output_type": "execute_result"
    },
    {
     "data": {
      "image/png": "[encoded data removed]",
      "text/plain": [
       "<Figure size 792x576 with 1 Axes>"
      ]
     },
     "metadata": {},
     "output_type": "display_data"
    }
   ],
   "source": [
    "sns.lineplot(x = 'click_count' , y ='average_post', data = time_activity)"
   ]
  },
  {
   "cell_type": "code",
   "execution_count": 743,
   "metadata": {},
   "outputs": [
    {
     "data": {
      "text/html": [
       "<div>\n",
       "<style scoped>\n",
       "    .dataframe tbody tr th:only-of-type {\n",
       "        vertical-align: middle;\n",
       "    }\n",
       "\n",
       "    .dataframe tbody tr th {\n",
       "        vertical-align: top;\n",
       "    }\n",
       "\n",
       "    .dataframe thead th {\n",
       "        text-align: right;\n",
       "    }\n",
       "</style>\n",
       "<table border=\"1\" class=\"dataframe\">\n",
       "  <thead>\n",
       "    <tr style=\"text-align: right;\">\n",
       "      <th></th>\n",
       "      <th>click_count</th>\n",
       "      <th>average_post</th>\n",
       "    </tr>\n",
       "    <tr>\n",
       "      <th>post_token</th>\n",
       "      <th></th>\n",
       "      <th></th>\n",
       "    </tr>\n",
       "  </thead>\n",
       "  <tbody>\n",
       "    <tr>\n",
       "      <th>wXvz5Kzy</th>\n",
       "      <td>32</td>\n",
       "      <td>9.125000</td>\n",
       "    </tr>\n",
       "    <tr>\n",
       "      <th>wXv3aQrM</th>\n",
       "      <td>31</td>\n",
       "      <td>5.741935</td>\n",
       "    </tr>\n",
       "    <tr>\n",
       "      <th>wXv_56iR</th>\n",
       "      <td>28</td>\n",
       "      <td>4.000000</td>\n",
       "    </tr>\n",
       "    <tr>\n",
       "      <th>wXvX4mek</th>\n",
       "      <td>28</td>\n",
       "      <td>26.321429</td>\n",
       "    </tr>\n",
       "    <tr>\n",
       "      <th>wXvjaPcy</th>\n",
       "      <td>24</td>\n",
       "      <td>2.458333</td>\n",
       "    </tr>\n",
       "    <tr>\n",
       "      <th>wXvHqew1</th>\n",
       "      <td>24</td>\n",
       "      <td>39.666667</td>\n",
       "    </tr>\n",
       "    <tr>\n",
       "      <th>wXvT6hfK</th>\n",
       "      <td>23</td>\n",
       "      <td>30.304348</td>\n",
       "    </tr>\n",
       "    <tr>\n",
       "      <th>wXvn5ejh</th>\n",
       "      <td>22</td>\n",
       "      <td>10.636364</td>\n",
       "    </tr>\n",
       "    <tr>\n",
       "      <th>wXvDqmmM</th>\n",
       "      <td>21</td>\n",
       "      <td>12.428571</td>\n",
       "    </tr>\n",
       "    <tr>\n",
       "      <th>wXvvgnLA</th>\n",
       "      <td>21</td>\n",
       "      <td>35.857143</td>\n",
       "    </tr>\n",
       "    <tr>\n",
       "      <th>wXvvJj6Q</th>\n",
       "      <td>21</td>\n",
       "      <td>2.952381</td>\n",
       "    </tr>\n",
       "    <tr>\n",
       "      <th>wXvDrof9</th>\n",
       "      <td>19</td>\n",
       "      <td>3.263158</td>\n",
       "    </tr>\n",
       "    <tr>\n",
       "      <th>wXvPaUpT</th>\n",
       "      <td>19</td>\n",
       "      <td>2.052632</td>\n",
       "    </tr>\n",
       "    <tr>\n",
       "      <th>wXvHbrNj</th>\n",
       "      <td>19</td>\n",
       "      <td>13.789474</td>\n",
       "    </tr>\n",
       "    <tr>\n",
       "      <th>wXvrJPgq</th>\n",
       "      <td>18</td>\n",
       "      <td>20.388889</td>\n",
       "    </tr>\n",
       "  </tbody>\n",
       "</table>\n",
       "</div>"
      ],
      "text/plain": [
       "            click_count  average_post\n",
       "post_token                           \n",
       "wXvz5Kzy             32      9.125000\n",
       "wXv3aQrM             31      5.741935\n",
       "wXv_56iR             28      4.000000\n",
       "wXvX4mek             28     26.321429\n",
       "wXvjaPcy             24      2.458333\n",
       "wXvHqew1             24     39.666667\n",
       "wXvT6hfK             23     30.304348\n",
       "wXvn5ejh             22     10.636364\n",
       "wXvDqmmM             21     12.428571\n",
       "wXvvgnLA             21     35.857143\n",
       "wXvvJj6Q             21      2.952381\n",
       "wXvDrof9             19      3.263158\n",
       "wXvPaUpT             19      2.052632\n",
       "wXvHbrNj             19     13.789474\n",
       "wXvrJPgq             18     20.388889"
      ]
     },
     "execution_count": 743,
     "metadata": {},
     "output_type": "execute_result"
    }
   ],
   "source": [
    "top_clicked = time_activity.sort_values('click_count', ascending = False ).head(15)\n",
    "top_clicked"
   ]
  },
  {
   "cell_type": "code",
   "execution_count": 744,
   "metadata": {},
   "outputs": [
    {
     "data": {
      "text/plain": [
       "<AxesSubplot:xlabel='click_count', ylabel='average_post'>"
      ]
     },
     "execution_count": 744,
     "metadata": {},
     "output_type": "execute_result"
    },
    {
     "data": {
      "image/png": "[encoded data removed]",
      "text/plain": [
       "<Figure size 792x576 with 1 Axes>"
      ]
     },
     "metadata": {},
     "output_type": "display_data"
    }
   ],
   "source": [
    "sns.lineplot(x = top_clicked['click_count'], y = top_clicked['average_post'])"
   ]
  },
  {
   "cell_type": "markdown",
   "metadata": {},
   "source": [
    "# set of actions count of click post VS count of load post page "
   ]
  },
  {
   "cell_type": "code",
   "execution_count": 745,
   "metadata": {},
   "outputs": [
    {
     "data": {
      "text/plain": [
       "<AxesSubplot:xlabel='action', ylabel='Count'>"
      ]
     },
     "execution_count": 745,
     "metadata": {},
     "output_type": "execute_result"
    },
    {
     "data": {
      "image/png": "[encoded data removed]",
      "text/plain": [
       "<Figure size 792x576 with 1 Axes>"
      ]
     },
     "metadata": {},
     "output_type": "display_data"
    }
   ],
   "source": [
    "sns.histplot(data = user_data ,x= 'action' , shrink=.8 )"
   ]
  },
  {
   "cell_type": "code",
   "execution_count": 746,
   "metadata": {},
   "outputs": [
    {
     "data": {
      "text/html": [
       "<div>\n",
       "<style scoped>\n",
       "    .dataframe tbody tr th:only-of-type {\n",
       "        vertical-align: middle;\n",
       "    }\n",
       "\n",
       "    .dataframe tbody tr th {\n",
       "        vertical-align: top;\n",
       "    }\n",
       "\n",
       "    .dataframe thead th {\n",
       "        text-align: right;\n",
       "    }\n",
       "</style>\n",
       "<table border=\"1\" class=\"dataframe\">\n",
       "  <thead>\n",
       "    <tr style=\"text-align: right;\">\n",
       "      <th></th>\n",
       "      <th>action</th>\n",
       "      <th>created_at</th>\n",
       "      <th>source_event_id</th>\n",
       "      <th>device_id</th>\n",
       "      <th>post_page_offset</th>\n",
       "      <th>tokens</th>\n",
       "      <th>post_index_in_post_list</th>\n",
       "    </tr>\n",
       "    <tr>\n",
       "      <th>post_token</th>\n",
       "      <th></th>\n",
       "      <th></th>\n",
       "      <th></th>\n",
       "      <th></th>\n",
       "      <th></th>\n",
       "      <th></th>\n",
       "      <th></th>\n",
       "    </tr>\n",
       "  </thead>\n",
       "  <tbody>\n",
       "    <tr>\n",
       "      <th>6s-aL4tmC</th>\n",
       "      <td>1</td>\n",
       "      <td>1</td>\n",
       "      <td>1</td>\n",
       "      <td>1</td>\n",
       "      <td>0</td>\n",
       "      <td>0</td>\n",
       "      <td>1</td>\n",
       "    </tr>\n",
       "    <tr>\n",
       "      <th>86h0O4vxa</th>\n",
       "      <td>1</td>\n",
       "      <td>1</td>\n",
       "      <td>1</td>\n",
       "      <td>1</td>\n",
       "      <td>0</td>\n",
       "      <td>0</td>\n",
       "      <td>1</td>\n",
       "    </tr>\n",
       "    <tr>\n",
       "      <th>AX3Gn2aE</th>\n",
       "      <td>1</td>\n",
       "      <td>1</td>\n",
       "      <td>1</td>\n",
       "      <td>1</td>\n",
       "      <td>0</td>\n",
       "      <td>0</td>\n",
       "      <td>1</td>\n",
       "    </tr>\n",
       "    <tr>\n",
       "      <th>AX6ePvzq</th>\n",
       "      <td>1</td>\n",
       "      <td>1</td>\n",
       "      <td>1</td>\n",
       "      <td>1</td>\n",
       "      <td>0</td>\n",
       "      <td>0</td>\n",
       "      <td>1</td>\n",
       "    </tr>\n",
       "    <tr>\n",
       "      <th>AX9aGeoq</th>\n",
       "      <td>2</td>\n",
       "      <td>2</td>\n",
       "      <td>2</td>\n",
       "      <td>2</td>\n",
       "      <td>0</td>\n",
       "      <td>0</td>\n",
       "      <td>2</td>\n",
       "    </tr>\n",
       "  </tbody>\n",
       "</table>\n",
       "</div>"
      ],
      "text/plain": [
       "            action  created_at  source_event_id  device_id  post_page_offset  \\\n",
       "post_token                                                                     \n",
       "6s-aL4tmC        1           1                1          1                 0   \n",
       "86h0O4vxa        1           1                1          1                 0   \n",
       "AX3Gn2aE         1           1                1          1                 0   \n",
       "AX6ePvzq         1           1                1          1                 0   \n",
       "AX9aGeoq         2           2                2          2                 0   \n",
       "\n",
       "            tokens  post_index_in_post_list  \n",
       "post_token                                   \n",
       "6s-aL4tmC        0                        1  \n",
       "86h0O4vxa        0                        1  \n",
       "AX3Gn2aE         0                        1  \n",
       "AX6ePvzq         0                        1  \n",
       "AX9aGeoq         0                        2  "
      ]
     },
     "execution_count": 746,
     "metadata": {},
     "output_type": "execute_result"
    }
   ],
   "source": [
    "user_data.groupby('post_token').count().head()"
   ]
  },
  {
   "cell_type": "code",
   "execution_count": 747,
   "metadata": {},
   "outputs": [
    {
     "data": {
      "text/plain": [
       "count                                                 35287\n",
       "unique                                                29800\n",
       "top       [wXvHbNqU, wXvDrof9, wXv_aXHk, wXvDrSIa, wXv_a...\n",
       "freq                                                     58\n",
       "Name: tokens, dtype: object"
      ]
     },
     "execution_count": 747,
     "metadata": {},
     "output_type": "execute_result"
    }
   ],
   "source": [
    "tokens = user_data[user_data['action']=='load_post_page']['tokens']\n",
    "tokens.describe(include = 'object')"
   ]
  },
  {
   "cell_type": "code",
   "execution_count": 748,
   "metadata": {},
   "outputs": [
    {
     "data": {
      "text/plain": [
       "str"
      ]
     },
     "execution_count": 748,
     "metadata": {},
     "output_type": "execute_result"
    }
   ],
   "source": [
    "type(user_data['tokens'][0][1:-1])"
   ]
  },
  {
   "cell_type": "markdown",
   "metadata": {},
   "source": [
    "# number of returned tokens for each query"
   ]
  },
  {
   "cell_type": "code",
   "execution_count": 749,
   "metadata": {},
   "outputs": [],
   "source": [
    "str_2_array = lambda x : len(x[1:-1].split(', '))\n",
    "user_data['number_of_token'] = user_data[user_data['action']=='load_post_page']['tokens'].apply(str_2_array)"
   ]
  },
  {
   "cell_type": "code",
   "execution_count": 750,
   "metadata": {},
   "outputs": [
    {
     "data": {
      "text/plain": [
       "count    35287.000000\n",
       "mean        22.774081\n",
       "std          4.467555\n",
       "min          1.000000\n",
       "25%         24.000000\n",
       "50%         24.000000\n",
       "75%         24.000000\n",
       "max         24.000000\n",
       "Name: number_of_token, dtype: float64"
      ]
     },
     "execution_count": 750,
     "metadata": {},
     "output_type": "execute_result"
    }
   ],
   "source": [
    "user_data.number_of_token.describe()"
   ]
  },
  {
   "cell_type": "code",
   "execution_count": 751,
   "metadata": {},
   "outputs": [
    {
     "data": {
      "text/plain": [
       "count    35287.000000\n",
       "mean        22.774081\n",
       "std          4.467555\n",
       "min          1.000000\n",
       "25%         24.000000\n",
       "50%         24.000000\n",
       "75%         24.000000\n",
       "max         24.000000\n",
       "Name: number_of_token, dtype: float64"
      ]
     },
     "execution_count": 751,
     "metadata": {},
     "output_type": "execute_result"
    }
   ],
   "source": [
    "range_of_numbers = user_data.number_of_token\n",
    "range_of_numbers.describe()"
   ]
  },
  {
   "cell_type": "code",
   "execution_count": 752,
   "metadata": {},
   "outputs": [
    {
     "data": {
      "text/plain": [
       "Text(0, 0.5, 'count')"
      ]
     },
     "execution_count": 752,
     "metadata": {},
     "output_type": "execute_result"
    },
    {
     "data": {
      "image/png": "[encoded data removed]",
      "text/plain": [
       "<Figure size 792x576 with 1 Axes>"
      ]
     },
     "metadata": {},
     "output_type": "display_data"
    }
   ],
   "source": [
    "sns.histplot(data = range_of_numbers, shrink=.9 , bins = 5)\n",
    "plt.xlabel('numbers')\n",
    "plt.ylabel('count')"
   ]
  },
  {
   "cell_type": "code",
   "execution_count": null,
   "metadata": {},
   "outputs": [],
   "source": []
  },
  {
   "cell_type": "markdown",
   "metadata": {},
   "source": [
    "# 2Q"
   ]
  },
  {
   "cell_type": "markdown",
   "metadata": {},
   "source": [
    "# drak query percent "
   ]
  },
  {
   "cell_type": "code",
   "execution_count": 753,
   "metadata": {},
   "outputs": [],
   "source": [
    "query_results =  user_data[user_data['action'] == 'load_post_page'][['source_event_id', 'number_of_token']].groupby('source_event_id', as_index=False).sum()"
   ]
  },
  {
   "cell_type": "code",
   "execution_count": 754,
   "metadata": {},
   "outputs": [
    {
     "data": {
      "text/html": [
       "<div>\n",
       "<style scoped>\n",
       "    .dataframe tbody tr th:only-of-type {\n",
       "        vertical-align: middle;\n",
       "    }\n",
       "\n",
       "    .dataframe tbody tr th {\n",
       "        vertical-align: top;\n",
       "    }\n",
       "\n",
       "    .dataframe thead th {\n",
       "        text-align: right;\n",
       "    }\n",
       "</style>\n",
       "<table border=\"1\" class=\"dataframe\">\n",
       "  <thead>\n",
       "    <tr style=\"text-align: right;\">\n",
       "      <th></th>\n",
       "      <th>number_of_token</th>\n",
       "    </tr>\n",
       "  </thead>\n",
       "  <tbody>\n",
       "    <tr>\n",
       "      <th>count</th>\n",
       "      <td>9381.000000</td>\n",
       "    </tr>\n",
       "    <tr>\n",
       "      <th>mean</th>\n",
       "      <td>85.665601</td>\n",
       "    </tr>\n",
       "    <tr>\n",
       "      <th>std</th>\n",
       "      <td>155.881088</td>\n",
       "    </tr>\n",
       "    <tr>\n",
       "      <th>min</th>\n",
       "      <td>1.000000</td>\n",
       "    </tr>\n",
       "    <tr>\n",
       "      <th>25%</th>\n",
       "      <td>24.000000</td>\n",
       "    </tr>\n",
       "    <tr>\n",
       "      <th>50%</th>\n",
       "      <td>48.000000</td>\n",
       "    </tr>\n",
       "    <tr>\n",
       "      <th>75%</th>\n",
       "      <td>96.000000</td>\n",
       "    </tr>\n",
       "    <tr>\n",
       "      <th>max</th>\n",
       "      <td>2376.000000</td>\n",
       "    </tr>\n",
       "  </tbody>\n",
       "</table>\n",
       "</div>"
      ],
      "text/plain": [
       "       number_of_token\n",
       "count      9381.000000\n",
       "mean         85.665601\n",
       "std         155.881088\n",
       "min           1.000000\n",
       "25%          24.000000\n",
       "50%          48.000000\n",
       "75%          96.000000\n",
       "max        2376.000000"
      ]
     },
     "execution_count": 754,
     "metadata": {},
     "output_type": "execute_result"
    }
   ],
   "source": [
    "query_results.describe()"
   ]
  },
  {
   "cell_type": "code",
   "execution_count": 755,
   "metadata": {},
   "outputs": [
    {
     "data": {
      "text/plain": [
       "9381"
      ]
     },
     "execution_count": 755,
     "metadata": {},
     "output_type": "execute_result"
    }
   ],
   "source": [
    "query_results['number_of_token'].count()"
   ]
  },
  {
   "cell_type": "code",
   "execution_count": 756,
   "metadata": {},
   "outputs": [
    {
     "data": {
      "text/plain": [
       "count    9381.000000\n",
       "mean       85.665601\n",
       "std       155.881088\n",
       "min         1.000000\n",
       "25%        24.000000\n",
       "50%        48.000000\n",
       "75%        96.000000\n",
       "max      2376.000000\n",
       "Name: number_of_token, dtype: float64"
      ]
     },
     "execution_count": 756,
     "metadata": {},
     "output_type": "execute_result"
    }
   ],
   "source": [
    "query_results['number_of_token'].describe()"
   ]
  },
  {
   "cell_type": "code",
   "execution_count": 757,
   "metadata": {},
   "outputs": [
    {
     "data": {
      "text/html": [
       "<div>\n",
       "<style scoped>\n",
       "    .dataframe tbody tr th:only-of-type {\n",
       "        vertical-align: middle;\n",
       "    }\n",
       "\n",
       "    .dataframe tbody tr th {\n",
       "        vertical-align: top;\n",
       "    }\n",
       "\n",
       "    .dataframe thead th {\n",
       "        text-align: right;\n",
       "    }\n",
       "</style>\n",
       "<table border=\"1\" class=\"dataframe\">\n",
       "  <thead>\n",
       "    <tr style=\"text-align: right;\">\n",
       "      <th></th>\n",
       "      <th>source_event_id</th>\n",
       "      <th>number_of_token</th>\n",
       "    </tr>\n",
       "  </thead>\n",
       "  <tbody>\n",
       "    <tr>\n",
       "      <th>7</th>\n",
       "      <td>005d3801-cbd8-4432-be02-3b85c10f6938</td>\n",
       "      <td>2.0</td>\n",
       "    </tr>\n",
       "    <tr>\n",
       "      <th>18</th>\n",
       "      <td>009e2d57-d038-4268-9ec4-d021e6894667</td>\n",
       "      <td>7.0</td>\n",
       "    </tr>\n",
       "    <tr>\n",
       "      <th>23</th>\n",
       "      <td>00da5fcb-4246-4b82-a9b2-081810d52c07</td>\n",
       "      <td>3.0</td>\n",
       "    </tr>\n",
       "    <tr>\n",
       "      <th>29</th>\n",
       "      <td>00f30b06-7303-44a8-9623-ad4144d8200b</td>\n",
       "      <td>3.0</td>\n",
       "    </tr>\n",
       "    <tr>\n",
       "      <th>32</th>\n",
       "      <td>00fad06c-a499-41f9-8cea-84441e09b7fb</td>\n",
       "      <td>7.0</td>\n",
       "    </tr>\n",
       "    <tr>\n",
       "      <th>...</th>\n",
       "      <td>...</td>\n",
       "      <td>...</td>\n",
       "    </tr>\n",
       "    <tr>\n",
       "      <th>9328</th>\n",
       "      <td>fe698e47-7e9e-43c6-bda4-43446ad25105</td>\n",
       "      <td>8.0</td>\n",
       "    </tr>\n",
       "    <tr>\n",
       "      <th>9342</th>\n",
       "      <td>feda3b8c-1c37-413c-9434-74a9c05e2f87</td>\n",
       "      <td>1.0</td>\n",
       "    </tr>\n",
       "    <tr>\n",
       "      <th>9364</th>\n",
       "      <td>ff8f1058-b437-494c-8dde-792325cd30fd</td>\n",
       "      <td>1.0</td>\n",
       "    </tr>\n",
       "    <tr>\n",
       "      <th>9373</th>\n",
       "      <td>ffbc107f-45f5-4dcf-b496-ce421de644a4</td>\n",
       "      <td>3.0</td>\n",
       "    </tr>\n",
       "    <tr>\n",
       "      <th>9374</th>\n",
       "      <td>ffd0cb32-0cd6-44d3-ad02-b87b764a47dd</td>\n",
       "      <td>2.0</td>\n",
       "    </tr>\n",
       "  </tbody>\n",
       "</table>\n",
       "<p>1138 rows × 2 columns</p>\n",
       "</div>"
      ],
      "text/plain": [
       "                           source_event_id  number_of_token\n",
       "7     005d3801-cbd8-4432-be02-3b85c10f6938              2.0\n",
       "18    009e2d57-d038-4268-9ec4-d021e6894667              7.0\n",
       "23    00da5fcb-4246-4b82-a9b2-081810d52c07              3.0\n",
       "29    00f30b06-7303-44a8-9623-ad4144d8200b              3.0\n",
       "32    00fad06c-a499-41f9-8cea-84441e09b7fb              7.0\n",
       "...                                    ...              ...\n",
       "9328  fe698e47-7e9e-43c6-bda4-43446ad25105              8.0\n",
       "9342  feda3b8c-1c37-413c-9434-74a9c05e2f87              1.0\n",
       "9364  ff8f1058-b437-494c-8dde-792325cd30fd              1.0\n",
       "9373  ffbc107f-45f5-4dcf-b496-ce421de644a4              3.0\n",
       "9374  ffd0cb32-0cd6-44d3-ad02-b87b764a47dd              2.0\n",
       "\n",
       "[1138 rows x 2 columns]"
      ]
     },
     "execution_count": 757,
     "metadata": {},
     "output_type": "execute_result"
    }
   ],
   "source": [
    "all_queris_count = user_data['source_event_id'].unique()\n",
    "dark_query_counts = query_results[query_results['number_of_token']<10]\n",
    "dark_query_counts"
   ]
  },
  {
   "cell_type": "code",
   "execution_count": 758,
   "metadata": {},
   "outputs": [
    {
     "data": {
      "text/plain": [
       "12.130902888817824"
      ]
     },
     "execution_count": 758,
     "metadata": {},
     "output_type": "execute_result"
    }
   ],
   "source": [
    "dark_query_percent = dark_query_counts['number_of_token'].count()/ query_results['number_of_token'].count()*100\n",
    "dark_query_percent"
   ]
  },
  {
   "cell_type": "markdown",
   "metadata": {},
   "source": [
    "drak query percent is:**%12.131**"
   ]
  },
  {
   "cell_type": "markdown",
   "metadata": {},
   "source": [
    "# "
   ]
  },
  {
   "cell_type": "markdown",
   "metadata": {},
   "source": [
    "#  query bounce rate "
   ]
  },
  {
   "cell_type": "code",
   "execution_count": 759,
   "metadata": {},
   "outputs": [
    {
     "data": {
      "text/plain": [
       "count                                   111083\n",
       "unique                                   14296\n",
       "top       fcc9fb48-fdc4-47b9-8047-081c6ca0d77a\n",
       "freq                                       193\n",
       "Name: source_event_id, dtype: object"
      ]
     },
     "execution_count": 759,
     "metadata": {},
     "output_type": "execute_result"
    }
   ],
   "source": [
    "user_data.source_event_id.describe()"
   ]
  },
  {
   "cell_type": "code",
   "execution_count": 760,
   "metadata": {},
   "outputs": [
    {
     "data": {
      "text/html": [
       "<div>\n",
       "<style scoped>\n",
       "    .dataframe tbody tr th:only-of-type {\n",
       "        vertical-align: middle;\n",
       "    }\n",
       "\n",
       "    .dataframe tbody tr th {\n",
       "        vertical-align: top;\n",
       "    }\n",
       "\n",
       "    .dataframe thead th {\n",
       "        text-align: right;\n",
       "    }\n",
       "</style>\n",
       "<table border=\"1\" class=\"dataframe\">\n",
       "  <thead>\n",
       "    <tr style=\"text-align: right;\">\n",
       "      <th></th>\n",
       "      <th>action</th>\n",
       "    </tr>\n",
       "    <tr>\n",
       "      <th>source_event_id</th>\n",
       "      <th></th>\n",
       "    </tr>\n",
       "  </thead>\n",
       "  <tbody>\n",
       "    <tr>\n",
       "      <th>00049ef3-c027-4f55-869c-46711f0ea0ad</th>\n",
       "      <td>1</td>\n",
       "    </tr>\n",
       "    <tr>\n",
       "      <th>00069dda-4175-4bb0-8ef0-c0e1031d4da6</th>\n",
       "      <td>1</td>\n",
       "    </tr>\n",
       "    <tr>\n",
       "      <th>00142c59-745c-4004-a955-698ddcf1faa6</th>\n",
       "      <td>1</td>\n",
       "    </tr>\n",
       "    <tr>\n",
       "      <th>0016f59f-9fb3-4ab5-ae78-9783314b81fc</th>\n",
       "      <td>1</td>\n",
       "    </tr>\n",
       "    <tr>\n",
       "      <th>0017b9ef-5903-40f9-a219-85728eb78436</th>\n",
       "      <td>1</td>\n",
       "    </tr>\n",
       "    <tr>\n",
       "      <th>...</th>\n",
       "      <td>...</td>\n",
       "    </tr>\n",
       "    <tr>\n",
       "      <th>ffeaa17f-ee79-4f42-be58-afd60a5aef37</th>\n",
       "      <td>1</td>\n",
       "    </tr>\n",
       "    <tr>\n",
       "      <th>ffec4e11-c0a1-4fa4-8613-0979d6f46918</th>\n",
       "      <td>2</td>\n",
       "    </tr>\n",
       "    <tr>\n",
       "      <th>ffef31ea-cb4e-4d00-98ca-118df330cdca</th>\n",
       "      <td>1</td>\n",
       "    </tr>\n",
       "    <tr>\n",
       "      <th>ffef6048-9db0-4244-9750-3b530552f0ec</th>\n",
       "      <td>2</td>\n",
       "    </tr>\n",
       "    <tr>\n",
       "      <th>fffc83a5-3f35-4cfe-bb4d-e1b9bf709860</th>\n",
       "      <td>1</td>\n",
       "    </tr>\n",
       "  </tbody>\n",
       "</table>\n",
       "<p>14296 rows × 1 columns</p>\n",
       "</div>"
      ],
      "text/plain": [
       "                                      action\n",
       "source_event_id                             \n",
       "00049ef3-c027-4f55-869c-46711f0ea0ad       1\n",
       "00069dda-4175-4bb0-8ef0-c0e1031d4da6       1\n",
       "00142c59-745c-4004-a955-698ddcf1faa6       1\n",
       "0016f59f-9fb3-4ab5-ae78-9783314b81fc       1\n",
       "0017b9ef-5903-40f9-a219-85728eb78436       1\n",
       "...                                      ...\n",
       "ffeaa17f-ee79-4f42-be58-afd60a5aef37       1\n",
       "ffec4e11-c0a1-4fa4-8613-0979d6f46918       2\n",
       "ffef31ea-cb4e-4d00-98ca-118df330cdca       1\n",
       "ffef6048-9db0-4244-9750-3b530552f0ec       2\n",
       "fffc83a5-3f35-4cfe-bb4d-e1b9bf709860       1\n",
       "\n",
       "[14296 rows x 1 columns]"
      ]
     },
     "execution_count": 760,
     "metadata": {},
     "output_type": "execute_result"
    }
   ],
   "source": [
    "clickPostQuery = user_data[['action','source_event_id']].groupby('source_event_id').nunique()\n",
    "clickPostQuery"
   ]
  },
  {
   "cell_type": "code",
   "execution_count": 761,
   "metadata": {},
   "outputs": [
    {
     "data": {
      "text/plain": [
       "37.05361901716235"
      ]
     },
     "execution_count": 761,
     "metadata": {},
     "output_type": "execute_result"
    }
   ],
   "source": [
    "clicked_queries = clickPostQuery[clickPostQuery['action'] == 2]\n",
    "ununique_action_post = user_data[user_data['action'] == 'load_post_page']['source_event_id'].nunique()\n",
    "clicked_queries_count = clicked_queries.action.count()\n",
    "query_bounce_rate_percent = (ununique_action_post-clicked_queries_count ) / ununique_action_post*100 \n",
    "query_bounce_rate_percent "
   ]
  },
  {
   "cell_type": "markdown",
   "metadata": {},
   "source": [
    "query bounce rate percent is **%37.05**"
   ]
  },
  {
   "cell_type": "markdown",
   "metadata": {},
   "source": [
    "# "
   ]
  },
  {
   "cell_type": "markdown",
   "metadata": {},
   "source": [
    "# "
   ]
  },
  {
   "cell_type": "markdown",
   "metadata": {},
   "source": [
    "# 3Q"
   ]
  },
  {
   "cell_type": "markdown",
   "metadata": {},
   "source": [
    "- **the Third is the metric what i perfer to show the results of queries**   "
   ]
  },
  {
   "cell_type": "markdown",
   "metadata": {},
   "source": [
    "در اينجا متريك سوم به عنوان بهترين حالت در نظر گرفته شده دلايل به شرح زير است : \n",
    "براي اينكه از بين كوئري ها  بهترين نتيجه داشته باشيم ، مي بايست رفتار كاربر برسي ميكرديم ، و با توجه به اينكه اين ديتا ست كه داده شده به صورت خيلي بالانس نبودن كوري ها و نتايج آنها متريك اول براي اين كار مناسب نيست ، در مورد متريك هاي دو و چهار  چون لزوما رتبه نتيجه دليلي بر خوب بودن نتيجه نيست نميتوان آن را به عنوان ملاك درنظر گرفت ، زيرا ديتا هاي ما از توزيع نرمال پيروي نمي كنند و نتيجه اي بهتر خواهد بود كه از : \n",
    "‏Exponentially decreasing function \n",
    "پيروي كنند ، كه نزديك ترين متريك از نظر من متريك سوم خواهد بود "
   ]
  },
  {
   "cell_type": "code",
   "execution_count": 762,
   "metadata": {},
   "outputs": [
    {
     "data": {
      "text/html": [
       "<div>\n",
       "<style scoped>\n",
       "    .dataframe tbody tr th:only-of-type {\n",
       "        vertical-align: middle;\n",
       "    }\n",
       "\n",
       "    .dataframe tbody tr th {\n",
       "        vertical-align: top;\n",
       "    }\n",
       "\n",
       "    .dataframe thead th {\n",
       "        text-align: right;\n",
       "    }\n",
       "</style>\n",
       "<table border=\"1\" class=\"dataframe\">\n",
       "  <thead>\n",
       "    <tr style=\"text-align: right;\">\n",
       "      <th></th>\n",
       "      <th>action</th>\n",
       "      <th>created_at</th>\n",
       "      <th>source_event_id</th>\n",
       "      <th>device_id</th>\n",
       "      <th>post_page_offset</th>\n",
       "      <th>tokens</th>\n",
       "      <th>post_index_in_post_list</th>\n",
       "      <th>number_of_token</th>\n",
       "    </tr>\n",
       "    <tr>\n",
       "      <th>post_token</th>\n",
       "      <th></th>\n",
       "      <th></th>\n",
       "      <th></th>\n",
       "      <th></th>\n",
       "      <th></th>\n",
       "      <th></th>\n",
       "      <th></th>\n",
       "      <th></th>\n",
       "    </tr>\n",
       "  </thead>\n",
       "  <tbody>\n",
       "    <tr>\n",
       "      <th>6s-aL4tmC</th>\n",
       "      <td>1</td>\n",
       "      <td>1</td>\n",
       "      <td>1</td>\n",
       "      <td>1</td>\n",
       "      <td>0</td>\n",
       "      <td>0</td>\n",
       "      <td>1</td>\n",
       "      <td>0</td>\n",
       "    </tr>\n",
       "    <tr>\n",
       "      <th>wXtbeCuW</th>\n",
       "      <td>1</td>\n",
       "      <td>1</td>\n",
       "      <td>1</td>\n",
       "      <td>1</td>\n",
       "      <td>0</td>\n",
       "      <td>0</td>\n",
       "      <td>1</td>\n",
       "      <td>0</td>\n",
       "    </tr>\n",
       "    <tr>\n",
       "      <th>wXtbeGUV</th>\n",
       "      <td>1</td>\n",
       "      <td>1</td>\n",
       "      <td>1</td>\n",
       "      <td>0</td>\n",
       "      <td>0</td>\n",
       "      <td>0</td>\n",
       "      <td>1</td>\n",
       "      <td>0</td>\n",
       "    </tr>\n",
       "    <tr>\n",
       "      <th>wXtbebjN</th>\n",
       "      <td>1</td>\n",
       "      <td>1</td>\n",
       "      <td>1</td>\n",
       "      <td>1</td>\n",
       "      <td>0</td>\n",
       "      <td>0</td>\n",
       "      <td>1</td>\n",
       "      <td>0</td>\n",
       "    </tr>\n",
       "    <tr>\n",
       "      <th>wXtbeiVj</th>\n",
       "      <td>1</td>\n",
       "      <td>1</td>\n",
       "      <td>1</td>\n",
       "      <td>1</td>\n",
       "      <td>0</td>\n",
       "      <td>0</td>\n",
       "      <td>1</td>\n",
       "      <td>0</td>\n",
       "    </tr>\n",
       "    <tr>\n",
       "      <th>...</th>\n",
       "      <td>...</td>\n",
       "      <td>...</td>\n",
       "      <td>...</td>\n",
       "      <td>...</td>\n",
       "      <td>...</td>\n",
       "      <td>...</td>\n",
       "      <td>...</td>\n",
       "      <td>...</td>\n",
       "    </tr>\n",
       "    <tr>\n",
       "      <th>wXvjaPcy</th>\n",
       "      <td>24</td>\n",
       "      <td>24</td>\n",
       "      <td>24</td>\n",
       "      <td>22</td>\n",
       "      <td>0</td>\n",
       "      <td>0</td>\n",
       "      <td>24</td>\n",
       "      <td>0</td>\n",
       "    </tr>\n",
       "    <tr>\n",
       "      <th>wXvX4mek</th>\n",
       "      <td>28</td>\n",
       "      <td>28</td>\n",
       "      <td>28</td>\n",
       "      <td>27</td>\n",
       "      <td>0</td>\n",
       "      <td>0</td>\n",
       "      <td>28</td>\n",
       "      <td>0</td>\n",
       "    </tr>\n",
       "    <tr>\n",
       "      <th>wXv_56iR</th>\n",
       "      <td>28</td>\n",
       "      <td>28</td>\n",
       "      <td>28</td>\n",
       "      <td>27</td>\n",
       "      <td>0</td>\n",
       "      <td>0</td>\n",
       "      <td>28</td>\n",
       "      <td>0</td>\n",
       "    </tr>\n",
       "    <tr>\n",
       "      <th>wXv3aQrM</th>\n",
       "      <td>31</td>\n",
       "      <td>31</td>\n",
       "      <td>31</td>\n",
       "      <td>29</td>\n",
       "      <td>0</td>\n",
       "      <td>0</td>\n",
       "      <td>31</td>\n",
       "      <td>0</td>\n",
       "    </tr>\n",
       "    <tr>\n",
       "      <th>wXvz5Kzy</th>\n",
       "      <td>32</td>\n",
       "      <td>32</td>\n",
       "      <td>32</td>\n",
       "      <td>32</td>\n",
       "      <td>0</td>\n",
       "      <td>0</td>\n",
       "      <td>32</td>\n",
       "      <td>0</td>\n",
       "    </tr>\n",
       "  </tbody>\n",
       "</table>\n",
       "<p>56804 rows × 8 columns</p>\n",
       "</div>"
      ],
      "text/plain": [
       "            action  created_at  source_event_id  device_id  post_page_offset  \\\n",
       "post_token                                                                     \n",
       "6s-aL4tmC        1           1                1          1                 0   \n",
       "wXtbeCuW         1           1                1          1                 0   \n",
       "wXtbeGUV         1           1                1          0                 0   \n",
       "wXtbebjN         1           1                1          1                 0   \n",
       "wXtbeiVj         1           1                1          1                 0   \n",
       "...            ...         ...              ...        ...               ...   \n",
       "wXvjaPcy        24          24               24         22                 0   \n",
       "wXvX4mek        28          28               28         27                 0   \n",
       "wXv_56iR        28          28               28         27                 0   \n",
       "wXv3aQrM        31          31               31         29                 0   \n",
       "wXvz5Kzy        32          32               32         32                 0   \n",
       "\n",
       "            tokens  post_index_in_post_list  number_of_token  \n",
       "post_token                                                    \n",
       "6s-aL4tmC        0                        1                0  \n",
       "wXtbeCuW         0                        1                0  \n",
       "wXtbeGUV         0                        1                0  \n",
       "wXtbebjN         0                        1                0  \n",
       "wXtbeiVj         0                        1                0  \n",
       "...            ...                      ...              ...  \n",
       "wXvjaPcy         0                       24                0  \n",
       "wXvX4mek         0                       28                0  \n",
       "wXv_56iR         0                       28                0  \n",
       "wXv3aQrM         0                       31                0  \n",
       "wXvz5Kzy         0                       32                0  \n",
       "\n",
       "[56804 rows x 8 columns]"
      ]
     },
     "execution_count": 762,
     "metadata": {},
     "output_type": "execute_result"
    }
   ],
   "source": [
    "user_data.groupby('post_token').count().sort_values('post_index_in_post_list')"
   ]
  },
  {
   "cell_type": "code",
   "execution_count": 763,
   "metadata": {},
   "outputs": [
    {
     "data": {
      "text/html": [
       "<div>\n",
       "<style scoped>\n",
       "    .dataframe tbody tr th:only-of-type {\n",
       "        vertical-align: middle;\n",
       "    }\n",
       "\n",
       "    .dataframe tbody tr th {\n",
       "        vertical-align: top;\n",
       "    }\n",
       "\n",
       "    .dataframe thead th {\n",
       "        text-align: right;\n",
       "    }\n",
       "</style>\n",
       "<table border=\"1\" class=\"dataframe\">\n",
       "  <thead>\n",
       "    <tr style=\"text-align: right;\">\n",
       "      <th></th>\n",
       "      <th>action</th>\n",
       "      <th>created_at</th>\n",
       "      <th>source_event_id</th>\n",
       "      <th>device_id</th>\n",
       "      <th>post_page_offset</th>\n",
       "      <th>tokens</th>\n",
       "      <th>post_token</th>\n",
       "      <th>number_of_token</th>\n",
       "    </tr>\n",
       "    <tr>\n",
       "      <th>post_index_in_post_list</th>\n",
       "      <th></th>\n",
       "      <th></th>\n",
       "      <th></th>\n",
       "      <th></th>\n",
       "      <th></th>\n",
       "      <th></th>\n",
       "      <th></th>\n",
       "      <th></th>\n",
       "    </tr>\n",
       "  </thead>\n",
       "  <tbody>\n",
       "    <tr>\n",
       "      <th>1.0</th>\n",
       "      <td>2704</td>\n",
       "      <td>2704</td>\n",
       "      <td>2704</td>\n",
       "      <td>2662</td>\n",
       "      <td>0</td>\n",
       "      <td>0</td>\n",
       "      <td>2704</td>\n",
       "      <td>0</td>\n",
       "    </tr>\n",
       "    <tr>\n",
       "      <th>2.0</th>\n",
       "      <td>2519</td>\n",
       "      <td>2519</td>\n",
       "      <td>2519</td>\n",
       "      <td>2477</td>\n",
       "      <td>0</td>\n",
       "      <td>0</td>\n",
       "      <td>2519</td>\n",
       "      <td>0</td>\n",
       "    </tr>\n",
       "    <tr>\n",
       "      <th>3.0</th>\n",
       "      <td>2273</td>\n",
       "      <td>2273</td>\n",
       "      <td>2273</td>\n",
       "      <td>2246</td>\n",
       "      <td>0</td>\n",
       "      <td>0</td>\n",
       "      <td>2273</td>\n",
       "      <td>0</td>\n",
       "    </tr>\n",
       "    <tr>\n",
       "      <th>4.0</th>\n",
       "      <td>1968</td>\n",
       "      <td>1968</td>\n",
       "      <td>1968</td>\n",
       "      <td>1949</td>\n",
       "      <td>0</td>\n",
       "      <td>0</td>\n",
       "      <td>1968</td>\n",
       "      <td>0</td>\n",
       "    </tr>\n",
       "    <tr>\n",
       "      <th>5.0</th>\n",
       "      <td>1721</td>\n",
       "      <td>1721</td>\n",
       "      <td>1721</td>\n",
       "      <td>1702</td>\n",
       "      <td>0</td>\n",
       "      <td>0</td>\n",
       "      <td>1721</td>\n",
       "      <td>0</td>\n",
       "    </tr>\n",
       "    <tr>\n",
       "      <th>6.0</th>\n",
       "      <td>1593</td>\n",
       "      <td>1593</td>\n",
       "      <td>1593</td>\n",
       "      <td>1572</td>\n",
       "      <td>0</td>\n",
       "      <td>0</td>\n",
       "      <td>1593</td>\n",
       "      <td>0</td>\n",
       "    </tr>\n",
       "    <tr>\n",
       "      <th>7.0</th>\n",
       "      <td>1532</td>\n",
       "      <td>1532</td>\n",
       "      <td>1532</td>\n",
       "      <td>1516</td>\n",
       "      <td>0</td>\n",
       "      <td>0</td>\n",
       "      <td>1532</td>\n",
       "      <td>0</td>\n",
       "    </tr>\n",
       "    <tr>\n",
       "      <th>8.0</th>\n",
       "      <td>1393</td>\n",
       "      <td>1393</td>\n",
       "      <td>1393</td>\n",
       "      <td>1375</td>\n",
       "      <td>0</td>\n",
       "      <td>0</td>\n",
       "      <td>1393</td>\n",
       "      <td>0</td>\n",
       "    </tr>\n",
       "    <tr>\n",
       "      <th>9.0</th>\n",
       "      <td>1262</td>\n",
       "      <td>1262</td>\n",
       "      <td>1262</td>\n",
       "      <td>1249</td>\n",
       "      <td>0</td>\n",
       "      <td>0</td>\n",
       "      <td>1262</td>\n",
       "      <td>0</td>\n",
       "    </tr>\n",
       "    <tr>\n",
       "      <th>10.0</th>\n",
       "      <td>1125</td>\n",
       "      <td>1125</td>\n",
       "      <td>1125</td>\n",
       "      <td>1115</td>\n",
       "      <td>0</td>\n",
       "      <td>0</td>\n",
       "      <td>1125</td>\n",
       "      <td>0</td>\n",
       "    </tr>\n",
       "  </tbody>\n",
       "</table>\n",
       "</div>"
      ],
      "text/plain": [
       "                         action  created_at  source_event_id  device_id  \\\n",
       "post_index_in_post_list                                                   \n",
       "1.0                        2704        2704             2704       2662   \n",
       "2.0                        2519        2519             2519       2477   \n",
       "3.0                        2273        2273             2273       2246   \n",
       "4.0                        1968        1968             1968       1949   \n",
       "5.0                        1721        1721             1721       1702   \n",
       "6.0                        1593        1593             1593       1572   \n",
       "7.0                        1532        1532             1532       1516   \n",
       "8.0                        1393        1393             1393       1375   \n",
       "9.0                        1262        1262             1262       1249   \n",
       "10.0                       1125        1125             1125       1115   \n",
       "\n",
       "                         post_page_offset  tokens  post_token  number_of_token  \n",
       "post_index_in_post_list                                                         \n",
       "1.0                                     0       0        2704                0  \n",
       "2.0                                     0       0        2519                0  \n",
       "3.0                                     0       0        2273                0  \n",
       "4.0                                     0       0        1968                0  \n",
       "5.0                                     0       0        1721                0  \n",
       "6.0                                     0       0        1593                0  \n",
       "7.0                                     0       0        1532                0  \n",
       "8.0                                     0       0        1393                0  \n",
       "9.0                                     0       0        1262                0  \n",
       "10.0                                    0       0        1125                0  "
      ]
     },
     "execution_count": 763,
     "metadata": {},
     "output_type": "execute_result"
    }
   ],
   "source": [
    "user_data.groupby('post_index_in_post_list').count().head(10)"
   ]
  },
  {
   "cell_type": "code",
   "execution_count": 764,
   "metadata": {},
   "outputs": [
    {
     "data": {
      "text/html": [
       "<div>\n",
       "<style scoped>\n",
       "    .dataframe tbody tr th:only-of-type {\n",
       "        vertical-align: middle;\n",
       "    }\n",
       "\n",
       "    .dataframe tbody tr th {\n",
       "        vertical-align: top;\n",
       "    }\n",
       "\n",
       "    .dataframe thead th {\n",
       "        text-align: right;\n",
       "    }\n",
       "</style>\n",
       "<table border=\"1\" class=\"dataframe\">\n",
       "  <thead>\n",
       "    <tr style=\"text-align: right;\">\n",
       "      <th></th>\n",
       "      <th>post_index_in_post_list</th>\n",
       "    </tr>\n",
       "    <tr>\n",
       "      <th>source_event_id</th>\n",
       "      <th></th>\n",
       "    </tr>\n",
       "  </thead>\n",
       "  <tbody>\n",
       "    <tr>\n",
       "      <th>00049ef3-c027-4f55-869c-46711f0ea0ad</th>\n",
       "      <td>0</td>\n",
       "    </tr>\n",
       "    <tr>\n",
       "      <th>00069dda-4175-4bb0-8ef0-c0e1031d4da6</th>\n",
       "      <td>0</td>\n",
       "    </tr>\n",
       "    <tr>\n",
       "      <th>00142c59-745c-4004-a955-698ddcf1faa6</th>\n",
       "      <td>4</td>\n",
       "    </tr>\n",
       "    <tr>\n",
       "      <th>0016f59f-9fb3-4ab5-ae78-9783314b81fc</th>\n",
       "      <td>10</td>\n",
       "    </tr>\n",
       "    <tr>\n",
       "      <th>0017b9ef-5903-40f9-a219-85728eb78436</th>\n",
       "      <td>4</td>\n",
       "    </tr>\n",
       "  </tbody>\n",
       "</table>\n",
       "</div>"
      ],
      "text/plain": [
       "                                      post_index_in_post_list\n",
       "source_event_id                                              \n",
       "00049ef3-c027-4f55-869c-46711f0ea0ad                        0\n",
       "00069dda-4175-4bb0-8ef0-c0e1031d4da6                        0\n",
       "00142c59-745c-4004-a955-698ddcf1faa6                        4\n",
       "0016f59f-9fb3-4ab5-ae78-9783314b81fc                       10\n",
       "0017b9ef-5903-40f9-a219-85728eb78436                        4"
      ]
     },
     "execution_count": 764,
     "metadata": {},
     "output_type": "execute_result"
    }
   ],
   "source": [
    "query_q = user_data[['post_index_in_post_list','source_event_id']].groupby('source_event_id').nunique()\n",
    "query_q.head()"
   ]
  },
  {
   "cell_type": "code",
   "execution_count": 765,
   "metadata": {},
   "outputs": [
    {
     "data": {
      "text/plain": [
       "4"
      ]
     },
     "execution_count": 765,
     "metadata": {},
     "output_type": "execute_result"
    }
   ],
   "source": [
    "post_index_in_post_list_of_query_q1 = query_q['post_index_in_post_list']['00142c59-745c-4004-a955-698ddcf1faa6']\n",
    "post_index_in_post_list_of_query_q1"
   ]
  },
  {
   "cell_type": "code",
   "execution_count": 766,
   "metadata": {},
   "outputs": [
    {
     "data": {
      "text/plain": [
       "10"
      ]
     },
     "execution_count": 766,
     "metadata": {},
     "output_type": "execute_result"
    }
   ],
   "source": [
    "post_index_in_post_list_of_query_q2 = query_q['post_index_in_post_list']['0016f59f-9fb3-4ab5-ae78-9783314b81fc']\n",
    "post_index_in_post_list_of_query_q2"
   ]
  },
  {
   "cell_type": "code",
   "execution_count": 767,
   "metadata": {},
   "outputs": [
    {
     "data": {
      "text/plain": [
       "7"
      ]
     },
     "execution_count": 767,
     "metadata": {},
     "output_type": "execute_result"
    }
   ],
   "source": [
    "mean_of_2_query = (post_index_in_post_list_of_query_q1+post_index_in_post_list_of_query_q2)//2\n",
    "mean_of_2_query"
   ]
  },
  {
   "cell_type": "markdown",
   "metadata": {},
   "source": [
    "# 4Q"
   ]
  },
  {
   "cell_type": "markdown",
   "metadata": {},
   "source": [
    "- fisrt metric"
   ]
  },
  {
   "cell_type": "markdown",
   "metadata": {},
   "source": [
    "So! Let's say we have a particular query Q, then for a single post in Q we have\n",
    "$$ x = 1 \\to success \\text{ (post getting clicked)} $$\n",
    "$$ x = 0 \\to failure \\text{ (post being skipped)} $$\n",
    "Then the probability distibution is going to be \n",
    "$$ P(X = x) =\n",
    "\\begin{cases}\n",
    "p & x = 1 \\\\\n",
    "1 - p & x = 0\n",
    "\\end{cases}\n",
    "$$\n",
    "\n",
    "If there is a way to get the probability of a single post in query Q being clicked, since clicking a post is an independent event, we can calculate our query metrics from that probability.\n",
    "\n",
    "Now, take a query Q as an example"
   ]
  },
  {
   "cell_type": "code",
   "execution_count": 768,
   "metadata": {},
   "outputs": [],
   "source": [
    "conut_fountion = lambda source_event_id : (user_data[(user_data['action'] == 'click_post') & (user_data['source_event_id'] == source_event_id)]['action'].count())\n",
    "query_results['clicks'] = query_results['source_event_id'].head().apply(conut_fountion)\n"
   ]
  },
  {
   "cell_type": "code",
   "execution_count": 769,
   "metadata": {},
   "outputs": [
    {
     "data": {
      "text/html": [
       "<div>\n",
       "<style scoped>\n",
       "    .dataframe tbody tr th:only-of-type {\n",
       "        vertical-align: middle;\n",
       "    }\n",
       "\n",
       "    .dataframe tbody tr th {\n",
       "        vertical-align: top;\n",
       "    }\n",
       "\n",
       "    .dataframe thead th {\n",
       "        text-align: right;\n",
       "    }\n",
       "</style>\n",
       "<table border=\"1\" class=\"dataframe\">\n",
       "  <thead>\n",
       "    <tr style=\"text-align: right;\">\n",
       "      <th></th>\n",
       "      <th>source_event_id</th>\n",
       "      <th>number_of_token</th>\n",
       "      <th>clicks</th>\n",
       "    </tr>\n",
       "  </thead>\n",
       "  <tbody>\n",
       "    <tr>\n",
       "      <th>0</th>\n",
       "      <td>00049ef3-c027-4f55-869c-46711f0ea0ad</td>\n",
       "      <td>24.0</td>\n",
       "      <td>0.0</td>\n",
       "    </tr>\n",
       "    <tr>\n",
       "      <th>1</th>\n",
       "      <td>00069dda-4175-4bb0-8ef0-c0e1031d4da6</td>\n",
       "      <td>24.0</td>\n",
       "      <td>0.0</td>\n",
       "    </tr>\n",
       "    <tr>\n",
       "      <th>2</th>\n",
       "      <td>0017c208-e016-4231-a022-598ba020f1ff</td>\n",
       "      <td>168.0</td>\n",
       "      <td>4.0</td>\n",
       "    </tr>\n",
       "    <tr>\n",
       "      <th>3</th>\n",
       "      <td>002222cf-9e4b-4432-9e36-ad500a753850</td>\n",
       "      <td>24.0</td>\n",
       "      <td>0.0</td>\n",
       "    </tr>\n",
       "    <tr>\n",
       "      <th>4</th>\n",
       "      <td>004dc60d-2288-453f-bcda-1ad5e8d8211f</td>\n",
       "      <td>25.0</td>\n",
       "      <td>3.0</td>\n",
       "    </tr>\n",
       "  </tbody>\n",
       "</table>\n",
       "</div>"
      ],
      "text/plain": [
       "                        source_event_id  number_of_token  clicks\n",
       "0  00049ef3-c027-4f55-869c-46711f0ea0ad             24.0     0.0\n",
       "1  00069dda-4175-4bb0-8ef0-c0e1031d4da6             24.0     0.0\n",
       "2  0017c208-e016-4231-a022-598ba020f1ff            168.0     4.0\n",
       "3  002222cf-9e4b-4432-9e36-ad500a753850             24.0     0.0\n",
       "4  004dc60d-2288-453f-bcda-1ad5e8d8211f             25.0     3.0"
      ]
     },
     "execution_count": 769,
     "metadata": {},
     "output_type": "execute_result"
    }
   ],
   "source": [
    "query_results.head()"
   ]
  },
  {
   "cell_type": "code",
   "execution_count": 770,
   "metadata": {},
   "outputs": [],
   "source": [
    "query_results['click_to_load'] = query_results['clicks'] / query_results['number_of_token']"
   ]
  },
  {
   "cell_type": "code",
   "execution_count": 771,
   "metadata": {},
   "outputs": [
    {
     "data": {
      "text/html": [
       "<div>\n",
       "<style scoped>\n",
       "    .dataframe tbody tr th:only-of-type {\n",
       "        vertical-align: middle;\n",
       "    }\n",
       "\n",
       "    .dataframe tbody tr th {\n",
       "        vertical-align: top;\n",
       "    }\n",
       "\n",
       "    .dataframe thead th {\n",
       "        text-align: right;\n",
       "    }\n",
       "</style>\n",
       "<table border=\"1\" class=\"dataframe\">\n",
       "  <thead>\n",
       "    <tr style=\"text-align: right;\">\n",
       "      <th></th>\n",
       "      <th>source_event_id</th>\n",
       "      <th>number_of_token</th>\n",
       "      <th>clicks</th>\n",
       "      <th>click_to_load</th>\n",
       "    </tr>\n",
       "  </thead>\n",
       "  <tbody>\n",
       "    <tr>\n",
       "      <th>2</th>\n",
       "      <td>0017c208-e016-4231-a022-598ba020f1ff</td>\n",
       "      <td>168.0</td>\n",
       "      <td>4.0</td>\n",
       "      <td>0.02381</td>\n",
       "    </tr>\n",
       "  </tbody>\n",
       "</table>\n",
       "</div>"
      ],
      "text/plain": [
       "                        source_event_id  number_of_token  clicks  \\\n",
       "2  0017c208-e016-4231-a022-598ba020f1ff            168.0     4.0   \n",
       "\n",
       "   click_to_load  \n",
       "2        0.02381  "
      ]
     },
     "execution_count": 771,
     "metadata": {},
     "output_type": "execute_result"
    }
   ],
   "source": [
    "query_results[query_results['source_event_id'] == '0017c208-e016-4231-a022-598ba020f1ff']"
   ]
  },
  {
   "cell_type": "markdown",
   "metadata": {},
   "source": [
    "در اینجا 4 از 168 نتیجه برگشت داده شده کلیک می شوند. اگر به طور تصادفی از این پرسش پستی بگیریم ، احتمال کلیک شدن آن چقدر است؟ البته البته 𝑃 (𝑋 = 1) = 4/168 = 0.02381 و احتمال رد شدن آن 𝑃 (𝑋 = 0) = 1−4 / 168 = 0.97619047619 است. احتمال کلیک روی یکی از 3 پست برتر چیست؟ ما نتایج را به گروه های 3 تایی تقسیم می کنیم ، اگر هر پستی در گروه کلیک شد ، آن گروه با کلیک کلیک می شود: 168/3 = 56 احتمال 𝑃 (𝑋 = 1) = 4/56 = 0.07142857142 خواهد بود. باز هم باید به خاطر داشته باشیم که پست های جدید شانس بیشتری برای کلیک دارند بنابراین احتمال کلیک شدن 3 پست برتر بیشتر است."
   ]
  },
  {
   "cell_type": "markdown",
   "metadata": {},
   "source": [
    " برای پیش بینی موقعیت کاربر برای اولین بار کلیک کنید بیایید بگوییم که ما 168 پست برگشتی داریم که در میان آنها 4 کلیک شده است ، سپس می توانیم 4 پست را به طور مساوی بین 168 پست کل (168/4 = 42) توزیع کنیم و به طور متوسط روی هر 42 پست کلیک می شود. این بدان معناست که انتظار داریم موقعیت اولین پست کلیک شده 42 باشد."
   ]
  },
  {
   "cell_type": "markdown",
   "metadata": {},
   "source": [
    "برای محاسبه میانگین فاصله بین کلیکهای کاربر ، مجدداً فرض می کنیم 42 پست کلیک شده به طور مساوی بین 168 پست توزیع شده و کاربر هر 42 پست را کلیک می کند و 42 بار این کار را انجام می دهد ، بنابراین به طور متوسط فاصله کلیک کاربر هر 42 پست خواهد بود."
   ]
  }
 ],
 "metadata": {
  "kernelspec": {
   "display_name": "Python 3",
   "language": "python",
   "name": "python3"
  },
  "language_info": {
   "codemirror_mode": {
    "name": "ipython",
    "version": 3
   },
   "file_extension": ".py",
   "mimetype": "text/x-python",
   "name": "python",
   "nbconvert_exporter": "python",
   "pygments_lexer": "ipython3",
   "version": "3.8.5"
  }
 },
 "nbformat": 4,
 "nbformat_minor": 2
}